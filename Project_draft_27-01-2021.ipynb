{
 "cells": [
  {
   "cell_type": "markdown",
   "metadata": {},
   "source": [
    "# Twitter Customer Complains Analysis\n",
    "\n",
    "## 1 Introduction\n",
    "\n",
    "The goal of this project is to analyse tweets for the official pages of 50 companies from 7 different areas (retail, travel, finance, delivery, insurance, telecommunications and technology) and verify how did the amount of tweets change over three years.\n",
    "\n",
    "### 1.1 Data Description\n",
    "\n",
    "The data analysed here was scraped from Twitter using ```snscrape``` package. The data was taken from 15 random days in each of the months April-June for 2018, 2019 and 2020. The scraping took around 4 hours. The data obtained contains about 543 000 tweets.\n",
    "\n",
    "The list of companies has both the official pages of the companies for general matters and customer support (e.g. @sainsburys, @AmericanAir, @Tesco, etc.), as well as pages for customer support only (e.g. @AmazonHelp, @FedExHelp, @AskLloydsBank, etc.). Part of the list was taken from the list of the 50 most responsive companies on Twitter here: https://hbr.org/2015/04/the-best-and-worst-corporate-tweeters\n",
    "\n",
    "Disclaimer: For simplicity, in this notebook we will use the names of the companies' Twitter pages instead of the real names of the companies.\n",
    "\n",
    "### 1.2 Main questions we want to answer:\n",
    "\n",
    "1. Is there any effect of the pandemic on the frequency of Tweets with mentions of the companies' official Twitter accounts?\n",
    "2. What are the differences in tweets regularity/sentiment between industries and/or companies?\n",
    "3. For those companies for which the amount of tweets increased in 2020, was it due to more customer complains during the pandemic?\n",
    "4. Can we identify which industries were more affected during the pandemic according to the data we obtained?\n"
   ]
  },
  {
   "cell_type": "markdown",
   "metadata": {},
   "source": [
    "### 1.3 Sources\n"
   ]
  },
  {
   "cell_type": "markdown",
   "metadata": {},
   "source": [
    "### 1.4 Install Commands for Packages used in this notebook\n",
    "\n",
    "#### for sentiment analysis"
   ]
  },
  {
   "cell_type": "raw",
   "metadata": {},
   "source": [
    "pip install textblob"
   ]
  },
  {
   "cell_type": "raw",
   "metadata": {},
   "source": [
    "pip install vaderSentiment"
   ]
  },
  {
   "cell_type": "markdown",
   "metadata": {},
   "source": [
    "#### for graphics"
   ]
  },
  {
   "cell_type": "raw",
   "metadata": {},
   "source": [
    "pip install plotly"
   ]
  },
  {
   "cell_type": "code",
   "execution_count": 92,
   "metadata": {},
   "outputs": [],
   "source": [
    "import pandas as pd\n",
    "import numpy as np\n",
    "import math\n",
    "import datetime\n",
    "import re\n",
    "\n",
    "#import snscrape.modules.twitter as sntwitter\n",
    "\n",
    "import matplotlib.pyplot as plt\n",
    "%matplotlib inline\n",
    "\n",
    "import seaborn as sns\n",
    "sns.reset_orig()\n",
    "\n",
    "from textblob import TextBlob\n",
    "\n",
    "from vaderSentiment.vaderSentiment import SentimentIntensityAnalyzer\n",
    "analyser = SentimentIntensityAnalyzer()\n",
    "\n",
    "\n",
    "from ipywidgets import interact"
   ]
  },
  {
   "cell_type": "markdown",
   "metadata": {},
   "source": [
    "## 2 Data \n",
    "### 2.1 Twitter Search using snscrape\n",
    "\n",
    "The non-premium Twitter developer account has restrictions on tweets which can be downloaded per month and restrictions on time into the past one can search. Therefore, another solution is to use the ```snscrape``` package which may be found here: https://github.com/JustAnotherArchivist/snscrape\n",
    "\n",
    "The package allows to scrape tweets into the past by either using a terminal or sending queries directly from python notebook. Although the tweets obtained from such scraping do not contain full data as opposed to Twyton functions, the user doesn't have to get a Twitter Developer account for scraping via snscrape, as guest credentials are used for scraping. \n",
    "More details on how the necessary data was obtained may be found in the separate file: ---.ipnb\n",
    "\n",
    "Using the package ```pickle``` we transfer the results obtained in ---.ipnb into the objects within current notebook."
   ]
  },
  {
   "cell_type": "code",
   "execution_count": 2,
   "metadata": {},
   "outputs": [],
   "source": [
    "import pickle #package that allows to enter data saved from previos runs\n",
    "\n",
    "# function for obtaining a list of tweets information lists\n",
    "def tweets_info(file_number): \n",
    "    daytweets = pickle.load(open(f'daytweets_100_{file_number}.p',\"rb\"))\n",
    "    daytweets_flat = [element for a_list in daytweets for element in a_list]\n",
    "    tweetslist = [[tweet_tuple[0], #company name\n",
    "                   tweet_tuple[1].date, tweet_tuple[1].id, #tweet information\n",
    "                   tweet_tuple[1].content, tweet_tuple[1].lang,\n",
    "                   tweet_tuple[1].user.username, tweet_tuple[1].user.location] \n",
    "                  for tweet_tuple in daytweets_flat]\n",
    "    \n",
    "    return tweetslist"
   ]
  },
  {
   "cell_type": "code",
   "execution_count": 3,
   "metadata": {},
   "outputs": [],
   "source": [
    "# list of all tweets information lists \n",
    "tweetslists = [element for i in range(10) for element in tweets_info(i+1)] \n",
    "\n",
    "# dataframe with all the tweets and information we need\n",
    "tweetsdf = pd.DataFrame(tweetslists,columns=['Company', 'Datetime', 'Tweet Id','Content',\n",
    "                                             'Language', 'Username', 'UserAcc Location'])"
   ]
  },
  {
   "cell_type": "markdown",
   "metadata": {},
   "source": [
    "## 3 Exploratory Data Analysis\n",
    "### 3.1 Frequency of Tweets per Minute\n",
    "\n",
    "As it was mentioned in the file ....ipynb our scraping queries were limited to 100 tweets per day. Therefore, to obtain information about tweets intensity we introduce a new metric. Namely, we want to explore the frequency of tweets per minute at each day we were scraping.\n",
    "\n",
    "We calculate it using the following simple formula:\n",
    "$$\\frac{tw_d}{m_d},$$\n",
    "where $tw_d$ is the amount of tweets obtained for a company at a single day and $m_d$ is the amount of minutes we were scraping this day (i.e. before the moment when algorithm stopped after obtaining 100 tweets for this day).\n",
    "\n",
    "Of course, this metric is not ideal and just shows the frequencies of tweets only for several hours after 00:00 UTC, but it is enough for our goals. Moreover, we compare approximately the same daytime intervals in each year, what makes our analysis consistent.\n",
    "\n",
    "\n",
    "Using the following two functions, we obtain a new dataframe with frequencies ordered by day and company.\n"
   ]
  },
  {
   "cell_type": "code",
   "execution_count": 37,
   "metadata": {},
   "outputs": [],
   "source": [
    "def frequencies_list(df): # column name to compute the metrics for it\n",
    "    newdf = df.copy() # create a copy for precaution: so that we don't change the original df\n",
    "    metrics_list = []\n",
    "    for company in newdf['Company'].unique():\n",
    "        company_mask = (newdf['Company']==company)\n",
    "        df_datetime = pd.to_datetime(newdf['Datetime'][company_mask]).apply(lambda x: x.date())\n",
    "        #print(sorted(df_datetime.unique()))\n",
    "        for day in df_datetime.unique():\n",
    "            day_mask = (df_datetime == day)\n",
    "            \n",
    "            # sort values of the datetime stamps for this day just in case\n",
    "            datetime_sorted = sorted(newdf['Datetime'][company_mask][day_mask].values)\n",
    "            \n",
    "            #print(datetime_sorted)\n",
    "            # how many minutes we were scraping this day\n",
    "            day_len_min = (datetime_sorted[-1]-datetime_sorted[0]).astype('timedelta64[m]').astype(int)\n",
    "            \n",
    "            if day_len_min != 0:\n",
    "                # divide the amount of mitues we were scraping this day by the amount of tweets we got\n",
    "                # and append it with the day and company to the metrics_list\n",
    "                metrics_list.append([company,day,len(datetime_sorted)/day_len_min])\n",
    "#             else:\n",
    "#                 day_tweets = np.sum(day_mask & company_mask)\n",
    "#                 if day_tweets != 0:\n",
    "#                     tweets_for_metrics = np.sum(day_mask & company_mask & mask_for_metrics)\n",
    "#                     metrics_list.append([company,day,tweets_for_metrics/day_tweets])\n",
    "    return metrics_list\n",
    "                    \n",
    "\n",
    "def list_to_df(list_of_lists, list_of_columns):\n",
    "    df = pd.DataFrame(list_of_lists, columns = list_of_columns)\n",
    "    df['Year'] = df['Date'].apply(lambda x: x.year)\n",
    "    df = df.set_index('Date')\n",
    "    return df\n",
    " "
   ]
  },
  {
   "cell_type": "code",
   "execution_count": 38,
   "metadata": {},
   "outputs": [],
   "source": [
    "frequencies = frequencies_list(tweetsdf)\n",
    "freqdf = list_to_df(frequencies, ['Company', 'Date', 'Frequency'])\n",
    "\n",
    "# testdf = tweetsdf[-1500:-1].copy(0)\n",
    "# frequencies_list(testdf)\n",
    "# #testdf"
   ]
  },
  {
   "cell_type": "code",
   "execution_count": 75,
   "metadata": {},
   "outputs": [
    {
     "data": {
      "text/html": [
       "<div>\n",
       "<style scoped>\n",
       "    .dataframe tbody tr th:only-of-type {\n",
       "        vertical-align: middle;\n",
       "    }\n",
       "\n",
       "    .dataframe tbody tr th {\n",
       "        vertical-align: top;\n",
       "    }\n",
       "\n",
       "    .dataframe thead th {\n",
       "        text-align: right;\n",
       "    }\n",
       "</style>\n",
       "<table border=\"1\" class=\"dataframe\">\n",
       "  <thead>\n",
       "    <tr style=\"text-align: right;\">\n",
       "      <th></th>\n",
       "      <th>Company</th>\n",
       "      <th>Frequency</th>\n",
       "      <th>Year</th>\n",
       "    </tr>\n",
       "    <tr>\n",
       "      <th>Date</th>\n",
       "      <th></th>\n",
       "      <th></th>\n",
       "      <th></th>\n",
       "    </tr>\n",
       "  </thead>\n",
       "  <tbody>\n",
       "    <tr>\n",
       "      <th>2018-04-17</th>\n",
       "      <td>DirectLine</td>\n",
       "      <td>0.014245</td>\n",
       "      <td>2018</td>\n",
       "    </tr>\n",
       "    <tr>\n",
       "      <th>2018-04-21</th>\n",
       "      <td>DirectLine</td>\n",
       "      <td>0.034375</td>\n",
       "      <td>2018</td>\n",
       "    </tr>\n",
       "    <tr>\n",
       "      <th>2018-04-06</th>\n",
       "      <td>DirectLine</td>\n",
       "      <td>0.023161</td>\n",
       "      <td>2018</td>\n",
       "    </tr>\n",
       "    <tr>\n",
       "      <th>2018-04-19</th>\n",
       "      <td>DirectLine</td>\n",
       "      <td>0.018018</td>\n",
       "      <td>2018</td>\n",
       "    </tr>\n",
       "    <tr>\n",
       "      <th>2018-04-28</th>\n",
       "      <td>DirectLine</td>\n",
       "      <td>0.013793</td>\n",
       "      <td>2018</td>\n",
       "    </tr>\n",
       "    <tr>\n",
       "      <th>...</th>\n",
       "      <td>...</td>\n",
       "      <td>...</td>\n",
       "      <td>...</td>\n",
       "    </tr>\n",
       "    <tr>\n",
       "      <th>2020-06-10</th>\n",
       "      <td>bookingcom</td>\n",
       "      <td>0.159744</td>\n",
       "      <td>2020</td>\n",
       "    </tr>\n",
       "    <tr>\n",
       "      <th>2020-06-27</th>\n",
       "      <td>bookingcom</td>\n",
       "      <td>0.121655</td>\n",
       "      <td>2020</td>\n",
       "    </tr>\n",
       "    <tr>\n",
       "      <th>2020-06-19</th>\n",
       "      <td>bookingcom</td>\n",
       "      <td>0.180832</td>\n",
       "      <td>2020</td>\n",
       "    </tr>\n",
       "    <tr>\n",
       "      <th>2020-06-08</th>\n",
       "      <td>bookingcom</td>\n",
       "      <td>0.130719</td>\n",
       "      <td>2020</td>\n",
       "    </tr>\n",
       "    <tr>\n",
       "      <th>2020-06-09</th>\n",
       "      <td>bookingcom</td>\n",
       "      <td>0.136426</td>\n",
       "      <td>2020</td>\n",
       "    </tr>\n",
       "  </tbody>\n",
       "</table>\n",
       "<p>6448 rows × 3 columns</p>\n",
       "</div>"
      ],
      "text/plain": [
       "               Company  Frequency  Year\n",
       "Date                                   \n",
       "2018-04-17  DirectLine   0.014245  2018\n",
       "2018-04-21  DirectLine   0.034375  2018\n",
       "2018-04-06  DirectLine   0.023161  2018\n",
       "2018-04-19  DirectLine   0.018018  2018\n",
       "2018-04-28  DirectLine   0.013793  2018\n",
       "...                ...        ...   ...\n",
       "2020-06-10  bookingcom   0.159744  2020\n",
       "2020-06-27  bookingcom   0.121655  2020\n",
       "2020-06-19  bookingcom   0.180832  2020\n",
       "2020-06-08  bookingcom   0.130719  2020\n",
       "2020-06-09  bookingcom   0.136426  2020\n",
       "\n",
       "[6448 rows x 3 columns]"
      ]
     },
     "execution_count": 75,
     "metadata": {},
     "output_type": "execute_result"
    }
   ],
   "source": [
    "freqdf#[freqdf['Frequency'] == freqdf['Frequency'].max()]\n",
    "    \n",
    "# sentiment_df.loc[sentiment_df[sentiment_df.Company==company].index, \n",
    "#                           'Industry'] = companies.Area[companies.Company==company].values[0]\n",
    "\n",
    "\n",
    "#     freqdf = pd.DataFrame(columns = ['Frequency', 'Company', 'Year'])\n",
    "# freqdf = freqdf[freqdf['Frequency']!=0]\n",
    "# for company in tweetsdf['Company'].unique():\n",
    "#     freqdf = freqdf.append(dict_to_df(company,tweets_dict))"
   ]
  },
  {
   "cell_type": "code",
   "execution_count": 123,
   "metadata": {},
   "outputs": [],
   "source": [
    "def barplots(df, column, title):\n",
    "    df2018 = df[df.Year==2018]\n",
    "    df2018 = df2018.groupby(['Company'])[column].agg('mean')\n",
    "    df2018 = df2018.rename(\"2018\")\n",
    "\n",
    "    df2019 = df[df.Year==2019]\n",
    "    df2019 = df2019.groupby(['Company'])[column].agg('mean')\n",
    "    df2019 = df2019.rename(\"2019\")\n",
    "\n",
    "    df2020 = df[df.Year==2020]\n",
    "    df2020 = df2020.groupby(['Company'])[column].agg('mean')\n",
    "    df2020 = df2020.rename(\"2020\")\n",
    "\n",
    "    new_df = pd.concat([df2018, df2019, df2020], axis=1).sort_values(by='2018', ascending=False)\n",
    "\n",
    "    fig, ax = plt.subplots(figsize = (15,6))\n",
    "    new_df.plot.bar(edgecolor='none', alpha = 0.5,figsize = (16,5), ax=ax)\n",
    "    #ax.set_xticklabels(frequencies.index,rotation = 30)\n",
    "    ax.set_title(title)\n",
    "    plt.show()"
   ]
  },
  {
   "cell_type": "code",
   "execution_count": 124,
   "metadata": {},
   "outputs": [
    {
     "data": {
      "image/png": "[encoded data removed]",
      "text/plain": [
       "<Figure size 1152x360 with 1 Axes>"
      ]
     },
     "metadata": {
      "needs_background": "light"
     },
     "output_type": "display_data"
    }
   ],
   "source": [
    "barplots(freqdf, 'Frequency', 'Average day frequencies by year and company')"
   ]
  },
  {
   "cell_type": "markdown",
   "metadata": {},
   "source": [
    "As we can see from the bar plot above, for some companies (e.g. WholeFoods, FedExHelp, TUIUK, etc.) the yearly average of the day tweets frequencies for 2020 increased more than two times in comparison to 2018 and 2019. Whilst, there are other companies, like AmericanAir or AskLloyds, where there is a significant decrease in average daily tweets frequencies, or no change at all (marksandspencer, BofA_Help, etc.)"
   ]
  },
  {
   "cell_type": "code",
   "execution_count": null,
   "metadata": {},
   "outputs": [],
   "source": [
    "# def freq_violinplot(company):\n",
    "#     freq_company = freq_clipped[freq_clipped['Company']==company]\n",
    "#     data_boxplot = [freq_company['Frequency'][freq_company['Year']==2018],\n",
    "#                 freq_company['Frequency'][freq_company['Year']==2019],\n",
    "#                 freq_company['Frequency'][freq_company['Year']==2020]]\n",
    "\n",
    "#     fig, ax = plt.subplots(figsize=(10, 4))\n",
    "    \n",
    "#     pos = [0, 1, 2]\n",
    "\n",
    "#     plt.violinplot(data_boxplot,\n",
    "#              pos, #widths=0.3,#points=100,\n",
    "#              showmeans=True,\n",
    "#             showextrema=True, \n",
    "#              showmedians=True)\n",
    "\n",
    "#     ax.set_ylabel('tweets frequency per day')\n",
    "#     ax.set_xlabel(company)\n",
    "#     #ax.set(ylim=(0, ))\n",
    "#     ax.set_xticks([0, 1, 2])\n",
    "#     ax.set_xticklabels(['2018', '2019', '2020'], fontsize='small');#points=100,\n",
    "#     #plt.show()"
   ]
  },
  {
   "cell_type": "code",
   "execution_count": null,
   "metadata": {},
   "outputs": [],
   "source": [
    "# interact(freq_violinplot, company=tweetsdf['Company'].unique())"
   ]
  },
  {
   "cell_type": "markdown",
   "metadata": {},
   "source": [
    "### 3.2 Logarithhmic frequences distributions"
   ]
  },
  {
   "cell_type": "code",
   "execution_count": 116,
   "metadata": {},
   "outputs": [],
   "source": [
    "# \n",
    "mask_freq = (freqdf['Frequency']>0.001) \n",
    "\n",
    "freq_clipped_log = freqdf[mask_freq]\n",
    "freq_clipped_log['Frequency'] = np.log(freq_clipped_log['Frequency'])\n",
    "#freq_clipped['Frequency'].plot(figsize = (20,8), color = 'green')\n",
    "#freq_clipped['Frequency']\n",
    "\n",
    "def freq_violinplot_log(company):\n",
    "    freq_company_log = freq_clipped_log[freq_clipped_log['Company']==company]\n",
    "    data_boxplot = [freq_company_log['Frequency'][freq_company_log['Year']==2018],\n",
    "                freq_company_log['Frequency'][freq_company_log['Year']==2019],\n",
    "                freq_company_log['Frequency'][freq_company_log['Year']==2020]]\n",
    "\n",
    "    fig, ax = plt.subplots(figsize=(10, 4))\n",
    "    \n",
    "    pos = [0, 1, 2]\n",
    "\n",
    "    plt.violinplot(data_boxplot,\n",
    "             pos, #widths=0.3,#points=100,\n",
    "             showmeans=True,\n",
    "            showextrema=True, \n",
    "             showmedians=True)\n",
    "\n",
    "    ax.set_ylabel('log(tweets frequency per day)')\n",
    "    ax.set_xlabel(company)\n",
    "    #ax.set(ylim=(0, ))\n",
    "    ax.set_xticks([0, 1, 2])\n",
    "    ax.set_xticklabels(['2018', '2019', '2020'], fontsize='small');#points=100,\n",
    "    #plt.show()"
   ]
  },
  {
   "cell_type": "code",
   "execution_count": 117,
   "metadata": {},
   "outputs": [
    {
     "data": {
      "application/vnd.jupyter.widget-view+json": {
       "model_id": "2d3ea4f34661442b800086d82db8fd90",
       "version_major": 2,
       "version_minor": 0
      },
      "text/plain": [
       "interactive(children=(Dropdown(description='company', options=('DirectLine', 'sainsburys', 'nextofficial', 'Am…"
      ]
     },
     "metadata": {},
     "output_type": "display_data"
    },
    {
     "data": {
      "text/plain": [
       "<function __main__.freq_violinplot_log(company)>"
      ]
     },
     "execution_count": 117,
     "metadata": {},
     "output_type": "execute_result"
    }
   ],
   "source": [
    "interact(freq_violinplot_log, company=tweetsdf['Company'].unique())"
   ]
  },
  {
   "cell_type": "markdown",
   "metadata": {},
   "source": [
    "## 4 Text Sentiment Analysis\n",
    "### 4.1 Models for sentiment\n",
    "We analyse the content of each tweet using two packages based on similar algorithms: TextBlob and VADER. Both of them do not need to pretrain a model in order to apply it and are relatively easy and quick to apply."
   ]
  },
  {
   "cell_type": "code",
   "execution_count": 76,
   "metadata": {},
   "outputs": [],
   "source": [
    "# function to clean up the text for the analysis\n",
    "def cleanUpTweet(text):\n",
    "    # Remove mentions\n",
    "    text = re.sub(r'@[A-Za-z0-9_]+', '', text)\n",
    "    # Remove hashtags\n",
    "    # text = re.sub(r'#', '', text)\n",
    "    # Remove retweets:\n",
    "    text = re.sub(r'RT : ', '', text)\n",
    "    # Remove urls\n",
    "    text = re.sub(r'https?:\\/\\/[A-Za-z0-9\\.\\/]+', '', text)\n",
    "    return text\n",
    "\n"
   ]
  },
  {
   "cell_type": "markdown",
   "metadata": {},
   "source": [
    "#### 4.1.1 TextBlob\n",
    "We will use just one property of the TextBlob `sentiment` package `sentimemt.polarity`. For a given text it returns a number from the interval $[-1,1]$. We define a function for the TextBlob sentiment score, which is \"negative\"(i.e. $=-1$) for negative values of `sentiment.polarity`, \"neutral\" (i.e. $=0$) for the value zero, and \"positive\" $(=1)$ for positive values of polarity.\n"
   ]
  },
  {
   "cell_type": "code",
   "execution_count": 62,
   "metadata": {},
   "outputs": [],
   "source": [
    "def Polarity(txt):\n",
    "    return TextBlob(txt).sentiment.polarity\n",
    "\n",
    "def TextBlobScore(a):\n",
    "    if a < 0:\n",
    "        return -1\n",
    "    elif a == 0:\n",
    "        return 0\n",
    "    else:\n",
    "        return 1"
   ]
  },
  {
   "cell_type": "code",
   "execution_count": 78,
   "metadata": {},
   "outputs": [],
   "source": [
    "# Clean the dataframe before the sentiment analysis\n",
    "\n",
    "# Drop Tweets from companies themselves\n",
    "clean_tweetsdf = tweetsdf.copy()\n",
    "for company in clean_tweetsdf['Company'].unique():\n",
    "    clean_tweetsdf = clean_tweetsdf.drop(clean_tweetsdf[clean_tweetsdf['Username']==company].index)\n",
    "\n",
    "# Clean the Content column leaving just text\n",
    "clean_tweetsdf['Content'] = clean_tweetsdf['Content'].apply(cleanUpTweet)\n",
    "\n",
    "# Drop Empty sentences\n",
    "clean_tweetsdf = clean_tweetsdf.drop(clean_tweetsdf[clean_tweetsdf['Content']==' '].index)\n",
    "clean_tweetsdf = clean_tweetsdf.drop(clean_tweetsdf[clean_tweetsdf['Content']==''].index)\n",
    "\n",
    "# Drop non English Tweets\n",
    "clean_tweetsdf = clean_tweetsdf.drop(clean_tweetsdf[clean_tweetsdf['Language']!='en'].index)\n",
    "\n"
   ]
  },
  {
   "cell_type": "code",
   "execution_count": 79,
   "metadata": {},
   "outputs": [],
   "source": [
    "# Apply Subjectivity Function\n",
    "# clean_tweetsdf['Subjectivity_TextBlob'] = clean_tweetsdf['Content'].apply(Subjectivity)\n",
    "\n",
    "# Apply Polairity to obtain new column\n",
    "clean_tweetsdf['PolarityTextBlob'] = clean_tweetsdf['Content'].apply(Polarity)\n",
    "\n",
    "# Apply Polarity Score to obtain new column\n",
    "clean_tweetsdf['Score_TextBlob'] = clean_tweetsdf['PolarityTextBlob'].apply(TextBlobScore)"
   ]
  },
  {
   "cell_type": "markdown",
   "metadata": {},
   "source": [
    "#### 4.1.2 VADER\n",
    "VADER (Valence Aware Dictionary and sEntiment Reasoner) is more oriented to texts on social networks. Valence is a score representing emotional alignment of a word. We will use `SentimentIntensityAnalyzer.polarity_score()` function, which returns a dictionary of text sentiment information.\n",
    "\n",
    "We are interested in the metric `compound` which, according to the documentation, represents a \"*normalised weighted composite score computed by summing the valence scores of each word in the lexicon, adjusted according to the rules, and then normalised to be between -1 (most extreme negative) and 1 (most extreme positive)*\".\n",
    "\n",
    "Due to its definition, in our `VADERscore` function we will slightly adjust the score for VADER metric in comparison to the one for TextBlob by assigning a \"neutral\" ($=0$) score to any compound score from the interval $(-0.05, 0.05)$, and \"positive\" to any value greater or equal to $0.05$, and \"negative\" to any value smaller or equal to $-0.05$."
   ]
  },
  {
   "cell_type": "code",
   "execution_count": 82,
   "metadata": {},
   "outputs": [],
   "source": [
    "clean_tweetsdf['CompoundVADER'] = clean_tweetsdf['Content'].apply(lambda x: analyser.polarity_scores(x)['compound'])"
   ]
  },
  {
   "cell_type": "code",
   "execution_count": 83,
   "metadata": {},
   "outputs": [],
   "source": [
    "# Tranfers the compound parameter into score\n",
    "def VADERscore(compound_score):\n",
    "    if compound_score >= 0.05:\n",
    "        score = 1\n",
    "    elif (compound_score > -0.05)&(compound_score < 0.05):\n",
    "        score = 0\n",
    "    else:\n",
    "        score = -1\n",
    "    return score"
   ]
  },
  {
   "cell_type": "code",
   "execution_count": 84,
   "metadata": {},
   "outputs": [],
   "source": [
    "# obtain a column of scores\n",
    "clean_tweetsdf['Score_VADER'] = clean_tweetsdf['CompoundVADER'].apply(VADERscore)"
   ]
  },
  {
   "cell_type": "markdown",
   "metadata": {},
   "source": [
    "### 4.3 Negative Sentiment Rates"
   ]
  },
  {
   "cell_type": "code",
   "execution_count": 86,
   "metadata": {},
   "outputs": [],
   "source": [
    "sentim_df = clean_tweetsdf.copy() \n",
    "sentim_df['Datetime'] = pd.to_datetime(sentim_df['Datetime']).apply(lambda x: x.date())\n",
    "#days = pd.to_datetime(sentiment_df['Datetime']).apply(lambda x: x.date()).unique()\n",
    "sentim_list = []\n",
    "\n",
    "for company in sentim_df['Company'].unique():\n",
    "    company_mask = (sentim_df['Company']==company)\n",
    "    sentiment_mask_tb = (sentim_df['Score_TextBlob'] == -1)\n",
    "    sentiment_mask_vad = (sentim_df['Score_VADER'] == -1)\n",
    "    \n",
    "    for day in sentim_df['Datetime'].unique():\n",
    "        day_mask = (sentim_df['Datetime'] == day)\n",
    "        day_tweets = np.sum(day_mask & company_mask)\n",
    "        if day_tweets != 0:\n",
    "            # TextBlob\n",
    "            day_sentim_tweets_tb = np.sum(day_mask & company_mask & sentiment_mask_tb)\n",
    "            \n",
    "            # VADER\n",
    "            day_sentim_tweets_vad = np.sum(day_mask & company_mask & sentiment_mask_vad)\n",
    "            \n",
    "            # append the list with a list of new information\n",
    "            sentim_list.append([company,day,day_sentim_tweets_tb/day_tweets,day_sentim_tweets_vad/day_tweets])\n",
    "\n",
    "            \n",
    "#[[company,day,np.sum((sentim_df['Datetime'] == day)&(sentim_df['Company']==company) & (sentim_df['Score_TextBlob'] == -1))/day_tweets,day_sentim_tweets_vad/day_tweets]]\n",
    "            \n",
    "            \n",
    "            \n",
    "# def metrics_list(df, metrics_amount): # column name to compute the metrics for it\n",
    "#     newdf = df.copy()\n",
    "#     newdf['Datetime'] = pd.to_datetime(newdf['Datetime']).apply(lambda x: x.date())\n",
    "#     metrics_list = []\n",
    "    \n",
    "#     if metrics_amount == 2\n",
    "#         metrics_mask_tb = (newdf['Score_TextBlob'] == -1)\n",
    "#         metrics_mask_vad = (newdf['Score_VADER'] == -1)\n",
    "\n",
    "#     # will be used in the later analysis\n",
    "#     if metrics_amount = 3\n",
    "#         metrics_mask_covid = newdf['COVID']\n",
    "    \n",
    "#     for company in newdf['Company'].unique():\n",
    "#         company_mask = (newdf['Company']==company)\n",
    "\n",
    "#         for day in newdf['Datetime'].unique():\n",
    "#             day_mask = (newdf['Datetime'] == day)\n",
    "#             day_tweets = np.sum(day_mask & company_mask)\n",
    "#             if day_tweets != 0:\n",
    "#                 tweets_for_metrics = np.sum(day_mask & company_mask & mask_for_metrics)\n",
    "#                 metrics_list.append([company,day,tweets_for_metrics/day_tweets])\n",
    "#     return metrics_list"
   ]
  },
  {
   "cell_type": "code",
   "execution_count": 87,
   "metadata": {},
   "outputs": [],
   "source": [
    "sentiment_df = list_to_df(sentim_list, ['Company', 'Date', 'NegativeRateTextBlob', 'NegativeRateVADER'])"
   ]
  },
  {
   "cell_type": "code",
   "execution_count": 88,
   "metadata": {},
   "outputs": [
    {
     "data": {
      "text/html": [
       "<div>\n",
       "<style scoped>\n",
       "    .dataframe tbody tr th:only-of-type {\n",
       "        vertical-align: middle;\n",
       "    }\n",
       "\n",
       "    .dataframe tbody tr th {\n",
       "        vertical-align: top;\n",
       "    }\n",
       "\n",
       "    .dataframe thead th {\n",
       "        text-align: right;\n",
       "    }\n",
       "</style>\n",
       "<table border=\"1\" class=\"dataframe\">\n",
       "  <thead>\n",
       "    <tr style=\"text-align: right;\">\n",
       "      <th></th>\n",
       "      <th>Company</th>\n",
       "      <th>NegativeRateTextBlob</th>\n",
       "      <th>NegativeRateVADER</th>\n",
       "      <th>Year</th>\n",
       "    </tr>\n",
       "    <tr>\n",
       "      <th>Date</th>\n",
       "      <th></th>\n",
       "      <th></th>\n",
       "      <th></th>\n",
       "      <th></th>\n",
       "    </tr>\n",
       "  </thead>\n",
       "  <tbody>\n",
       "    <tr>\n",
       "      <th>2018-04-22</th>\n",
       "      <td>DirectLine</td>\n",
       "      <td>0.0</td>\n",
       "      <td>1.0</td>\n",
       "      <td>2018</td>\n",
       "    </tr>\n",
       "    <tr>\n",
       "      <th>2018-04-02</th>\n",
       "      <td>DirectLine</td>\n",
       "      <td>0.0</td>\n",
       "      <td>0.0</td>\n",
       "      <td>2018</td>\n",
       "    </tr>\n",
       "    <tr>\n",
       "      <th>2018-05-11</th>\n",
       "      <td>DirectLine</td>\n",
       "      <td>1.0</td>\n",
       "      <td>0.0</td>\n",
       "      <td>2018</td>\n",
       "    </tr>\n",
       "    <tr>\n",
       "      <th>2018-05-22</th>\n",
       "      <td>DirectLine</td>\n",
       "      <td>0.0</td>\n",
       "      <td>1.0</td>\n",
       "      <td>2018</td>\n",
       "    </tr>\n",
       "    <tr>\n",
       "      <th>2018-05-09</th>\n",
       "      <td>DirectLine</td>\n",
       "      <td>0.2</td>\n",
       "      <td>0.2</td>\n",
       "      <td>2018</td>\n",
       "    </tr>\n",
       "  </tbody>\n",
       "</table>\n",
       "</div>"
      ],
      "text/plain": [
       "               Company  NegativeRateTextBlob  NegativeRateVADER  Year\n",
       "Date                                                                 \n",
       "2018-04-22  DirectLine                   0.0                1.0  2018\n",
       "2018-04-02  DirectLine                   0.0                0.0  2018\n",
       "2018-05-11  DirectLine                   1.0                0.0  2018\n",
       "2018-05-22  DirectLine                   0.0                1.0  2018\n",
       "2018-05-09  DirectLine                   0.2                0.2  2018"
      ]
     },
     "execution_count": 88,
     "metadata": {},
     "output_type": "execute_result"
    }
   ],
   "source": [
    "sentiment_df.head()"
   ]
  },
  {
   "cell_type": "markdown",
   "metadata": {},
   "source": [
    "#### 4.2.1 Barplot for Negative Sentiment Rate"
   ]
  },
  {
   "cell_type": "code",
   "execution_count": 138,
   "metadata": {},
   "outputs": [
    {
     "data": {
      "image/png": "[encoded data removed]",
      "text/plain": [
       "<Figure size 1152x360 with 1 Axes>"
      ]
     },
     "metadata": {
      "needs_background": "light"
     },
     "output_type": "display_data"
    }
   ],
   "source": [
    "barplots(sentiment_df, 'NegativeRateTextBlob', 'Average negative sentiment day rates by year and company')"
   ]
  },
  {
   "cell_type": "markdown",
   "metadata": {},
   "source": [
    "#### 4.2.2 Confidence Intervals for Logarithmic Negative Sentiment Rates"
   ]
  },
  {
   "cell_type": "code",
   "execution_count": 126,
   "metadata": {},
   "outputs": [],
   "source": [
    "mask_sentim = (sentiment_df['NegativeRateTextBlob']>=0.0001) & (sentiment_df['NegativeRateVADER']>=0.0001) \n",
    "sentiment_log = sentiment_df.copy()[mask_sentim]\n",
    "sentiment_log['log-NegativeRateTextBlob'] = np.log(sentiment_log['NegativeRateTextBlob'])\n",
    "sentiment_log['log-NegativeRateVADER'] = np.log(sentiment_log['NegativeRateVADER'])\n",
    "#sentim_log['NegativeRateVADER'] = np.log(sentim_log['NegativeRateVADER'])\n",
    "#\n",
    "\n",
    "def sentim_boxplot_log(company, rate):\n",
    "    sentim_company = sentiment_log[sentiment_log['Company']==company]\n",
    "    data_plot = [sentim_company[rate][sentim_company['Year']==2018],\n",
    "                sentim_company[rate][sentim_company['Year']==2019],\n",
    "                sentim_company[rate][sentim_company['Year']==2020]]\n",
    "\n",
    "    fig, ax = plt.subplots(figsize=(10, 4))\n",
    "    \n",
    "    pos = [0, 1, 2]\n",
    "\n",
    "    sns.boxplot(data = data_plot)#,\n",
    "#              pos, #widths=0.3,#points=100,\n",
    "#              showmeans=True,\n",
    "#             showextrema=True, \n",
    "#              showmedians=True)\n",
    "\n",
    "    ax.set_ylabel('log(Negative Sentiment)')\n",
    "    ax.set_xlabel(company)\n",
    "    #ax.set(ylim=(0, ))\n",
    "    ax.set_xticks([0, 1, 2])\n",
    "    ax.set_xticklabels(['2018', '2019', '2020'], fontsize='small');#points=100,\n",
    "    plt.show()"
   ]
  },
  {
   "cell_type": "code",
   "execution_count": 127,
   "metadata": {},
   "outputs": [
    {
     "data": {
      "application/vnd.jupyter.widget-view+json": {
       "model_id": "1dcf9a021cc04bee9d247eb52cbd988a",
       "version_major": 2,
       "version_minor": 0
      },
      "text/plain": [
       "interactive(children=(Dropdown(description='company', options=('DirectLine', 'sainsburys', 'nextofficial', 'Am…"
      ]
     },
     "metadata": {},
     "output_type": "display_data"
    },
    {
     "data": {
      "text/plain": [
       "<function __main__.sentim_boxplot_log(company, rate)>"
      ]
     },
     "execution_count": 127,
     "metadata": {},
     "output_type": "execute_result"
    }
   ],
   "source": [
    "interact(sentim_boxplot_log,\n",
    "         company=tweetsdf['Company'].unique(),\n",
    "         rate = [('TextBlob Rate','log-NegativeRateTextBlob'),('VADER Rate', 'log-NegativeRateVADER')])"
   ]
  },
  {
   "cell_type": "markdown",
   "metadata": {},
   "source": [
    "### 4.3 Wordclouds"
   ]
  },
  {
   "cell_type": "raw",
   "metadata": {},
   "source": [
    "pip install wordcloud"
   ]
  },
  {
   "cell_type": "code",
   "execution_count": 105,
   "metadata": {},
   "outputs": [],
   "source": [
    "from wordcloud import WordCloud, STOPWORDS, ImageColorGenerator\n",
    "\n",
    "# Update the default stopword list:\n",
    "stopwords = set(STOPWORDS)\n",
    "stopwords.update([\"u\", \"now\", \"one\", \"will\", \"Hi\", \"day\", \"think\", \"don\", \"t\", \n",
    "                  \"know\", \"amp\", \"s\", \"today\", \"got\", \"say\", \"Thank\", \"Thanks\", \n",
    "                  \"see\", \"go\", \"please\", \"thing\", \"people\", \"us\", \"ve\", \"m\"])\n"
   ]
  },
  {
   "cell_type": "code",
   "execution_count": 113,
   "metadata": {},
   "outputs": [],
   "source": [
    "# Adding a column with year to the dataframe\n",
    "#clean_tweetsdf.loc[clean_tweetsdf.index, 'Year'] = pd.to_datetime(clean_tweetsdf['Datetime']).apply(lambda x: x.year)\n",
    "clean_tweetsdf['Year'] = pd.to_datetime(clean_tweetsdf['Datetime']).apply(lambda x: x.year)\n",
    "\n",
    "def wordcloud(year,company):\n",
    "    # Create the text for the given year\n",
    "    year_mask = (clean_tweetsdf.Year==year)\n",
    "    company_mask = (clean_tweetsdf.Company==company)\n",
    "    text = \" \".join(tweet for tweet in clean_tweetsdf.Content[year_mask & company_mask])\n",
    "\n",
    "    # Generate a word cloud image\n",
    "    wordcloud = WordCloud(stopwords = stopwords, background_color=\"white\").generate(text)\n",
    "\n",
    "    # Display the generated image:\n",
    "    plt.figure(figsize=[16,10])\n",
    "    plt.imshow(wordcloud, interpolation='bilinear')\n",
    "    plt.axis(\"off\")\n",
    "    plt.show()"
   ]
  },
  {
   "cell_type": "code",
   "execution_count": 114,
   "metadata": {},
   "outputs": [
    {
     "data": {
      "application/vnd.jupyter.widget-view+json": {
       "model_id": "8c708611aab847b7b7fdb7322f8c4176",
       "version_major": 2,
       "version_minor": 0
      },
      "text/plain": [
       "interactive(children=(Dropdown(description='year', options=(2018, 2019, 2020), value=2018), Dropdown(descripti…"
      ]
     },
     "metadata": {},
     "output_type": "display_data"
    },
    {
     "data": {
      "text/plain": [
       "<function __main__.wordcloud(year, company)>"
      ]
     },
     "execution_count": 114,
     "metadata": {},
     "output_type": "execute_result"
    }
   ],
   "source": [
    "interact(wordcloud,\n",
    "         year = [2018, 2019, 2020],\n",
    "         company = tweetsdf['Company'].unique())"
   ]
  },
  {
   "cell_type": "markdown",
   "metadata": {},
   "source": [
    "### 4.4 COVID Sentiment analysis"
   ]
  },
  {
   "cell_type": "code",
   "execution_count": 129,
   "metadata": {},
   "outputs": [],
   "source": [
    "search_words = [\"covid\", \"pandemic\", \"covid19\", \"lockdown\", \"corona\", \n",
    "                \"virus\", \"coronavirus\", \"covid-19\", \"covd19\", \"mask\"]\n",
    "def contains_covid(text):\n",
    "    text_listed = re.split('[; |, |\\*|\\n#().?\"\"''+$&!/%^§=´`*_:<>]', text.lower())\n",
    "    return any(word in text_listed for word in search_words)"
   ]
  },
  {
   "cell_type": "code",
   "execution_count": 131,
   "metadata": {},
   "outputs": [],
   "source": [
    "clean_tweetsdf.loc[:,'COVID'] = clean_tweetsdf['Content'].apply(lambda x: contains_covid(x))"
   ]
  },
  {
   "cell_type": "code",
   "execution_count": 132,
   "metadata": {},
   "outputs": [],
   "source": [
    "covid_sentiment_df = clean_tweetsdf.copy() \n",
    "covid_sentiment_df['Datetime'] = pd.to_datetime(covid_sentiment_df['Datetime']).apply(lambda x: x.date())\n",
    "#days = pd.to_datetime(sentiment_df['Datetime']).apply(lambda x: x.date()).unique()\n",
    "\n",
    "covid_sentim_list = []\n",
    "#covid_sentiment = {}\n",
    "\n",
    "for company in covid_sentiment_df['Company'].unique():\n",
    "    company_mask = (covid_sentiment_df['Company']==company)\n",
    "    covid_sentiment_mask = covid_sentiment_df['COVID']\n",
    "    \n",
    "    for day in covid_sentiment_df['Datetime'].unique():\n",
    "        #print(day)\n",
    "        day_mask = (covid_sentiment_df['Datetime'] == day)\n",
    "        #print(np.sum(day_mask))\n",
    "        day_tweets = np.sum(day_mask & company_mask)\n",
    "        #print(day_tweets)\n",
    "        if day_tweets != 0:\n",
    "            # TextBlob\n",
    "            day_sentim_tweets = np.sum(day_mask & company_mask & covid_sentiment_mask)\n",
    "            #covid_sentiment[day] = day_sentim_tweets/day_tweets\n",
    "            covid_sentim_list.append([company,day,day_sentim_tweets/day_tweets])"
   ]
  },
  {
   "cell_type": "code",
   "execution_count": 134,
   "metadata": {},
   "outputs": [],
   "source": [
    "covid_sentim_df = list_to_df(covid_sentim_list, ['Company', 'Date', 'COVID_sentiment'])"
   ]
  },
  {
   "cell_type": "code",
   "execution_count": 135,
   "metadata": {},
   "outputs": [
    {
     "data": {
      "text/html": [
       "<div>\n",
       "<style scoped>\n",
       "    .dataframe tbody tr th:only-of-type {\n",
       "        vertical-align: middle;\n",
       "    }\n",
       "\n",
       "    .dataframe tbody tr th {\n",
       "        vertical-align: top;\n",
       "    }\n",
       "\n",
       "    .dataframe thead th {\n",
       "        text-align: right;\n",
       "    }\n",
       "</style>\n",
       "<table border=\"1\" class=\"dataframe\">\n",
       "  <thead>\n",
       "    <tr style=\"text-align: right;\">\n",
       "      <th></th>\n",
       "      <th>Company</th>\n",
       "      <th>COVID_sentiment</th>\n",
       "      <th>Year</th>\n",
       "    </tr>\n",
       "    <tr>\n",
       "      <th>Date</th>\n",
       "      <th></th>\n",
       "      <th></th>\n",
       "      <th></th>\n",
       "    </tr>\n",
       "  </thead>\n",
       "  <tbody>\n",
       "    <tr>\n",
       "      <th>2018-04-22</th>\n",
       "      <td>DirectLine</td>\n",
       "      <td>0.000000</td>\n",
       "      <td>2018</td>\n",
       "    </tr>\n",
       "    <tr>\n",
       "      <th>2018-04-02</th>\n",
       "      <td>DirectLine</td>\n",
       "      <td>0.000000</td>\n",
       "      <td>2018</td>\n",
       "    </tr>\n",
       "    <tr>\n",
       "      <th>2018-05-11</th>\n",
       "      <td>DirectLine</td>\n",
       "      <td>0.000000</td>\n",
       "      <td>2018</td>\n",
       "    </tr>\n",
       "    <tr>\n",
       "      <th>2018-05-22</th>\n",
       "      <td>DirectLine</td>\n",
       "      <td>0.000000</td>\n",
       "      <td>2018</td>\n",
       "    </tr>\n",
       "    <tr>\n",
       "      <th>2018-05-09</th>\n",
       "      <td>DirectLine</td>\n",
       "      <td>0.000000</td>\n",
       "      <td>2018</td>\n",
       "    </tr>\n",
       "    <tr>\n",
       "      <th>...</th>\n",
       "      <td>...</td>\n",
       "      <td>...</td>\n",
       "      <td>...</td>\n",
       "    </tr>\n",
       "    <tr>\n",
       "      <th>2019-06-27</th>\n",
       "      <td>bookingcom</td>\n",
       "      <td>0.000000</td>\n",
       "      <td>2019</td>\n",
       "    </tr>\n",
       "    <tr>\n",
       "      <th>2018-06-14</th>\n",
       "      <td>bookingcom</td>\n",
       "      <td>0.000000</td>\n",
       "      <td>2018</td>\n",
       "    </tr>\n",
       "    <tr>\n",
       "      <th>2019-05-07</th>\n",
       "      <td>bookingcom</td>\n",
       "      <td>0.000000</td>\n",
       "      <td>2019</td>\n",
       "    </tr>\n",
       "    <tr>\n",
       "      <th>2020-06-08</th>\n",
       "      <td>bookingcom</td>\n",
       "      <td>0.166667</td>\n",
       "      <td>2020</td>\n",
       "    </tr>\n",
       "    <tr>\n",
       "      <th>2019-05-14</th>\n",
       "      <td>bookingcom</td>\n",
       "      <td>0.000000</td>\n",
       "      <td>2019</td>\n",
       "    </tr>\n",
       "  </tbody>\n",
       "</table>\n",
       "<p>6417 rows × 3 columns</p>\n",
       "</div>"
      ],
      "text/plain": [
       "               Company  COVID_sentiment  Year\n",
       "Date                                         \n",
       "2018-04-22  DirectLine         0.000000  2018\n",
       "2018-04-02  DirectLine         0.000000  2018\n",
       "2018-05-11  DirectLine         0.000000  2018\n",
       "2018-05-22  DirectLine         0.000000  2018\n",
       "2018-05-09  DirectLine         0.000000  2018\n",
       "...                ...              ...   ...\n",
       "2019-06-27  bookingcom         0.000000  2019\n",
       "2018-06-14  bookingcom         0.000000  2018\n",
       "2019-05-07  bookingcom         0.000000  2019\n",
       "2020-06-08  bookingcom         0.166667  2020\n",
       "2019-05-14  bookingcom         0.000000  2019\n",
       "\n",
       "[6417 rows x 3 columns]"
      ]
     },
     "execution_count": 135,
     "metadata": {},
     "output_type": "execute_result"
    }
   ],
   "source": [
    "covid_sentim_df"
   ]
  },
  {
   "cell_type": "code",
   "execution_count": 139,
   "metadata": {},
   "outputs": [],
   "source": [
    "# Dataframe with new column 'Industry'\n",
    "\n",
    "companies = pd.read_csv(\"CompaniesList.csv\", header = None)\n",
    "companies.columns = ['Company', 'Industry']\n",
    "\n",
    "for company in covid_sentim_df['Company'].unique():\n",
    "    company_mask = (covid_sentim_df.Company==company)\n",
    "    covid_sentim_df.loc[covid_sentim_df[company_mask].index, 'Industry']\\\n",
    "        = companies.Industry[companies.Company==company].values[0]\n",
    "\n"
   ]
  },
  {
   "cell_type": "code",
   "execution_count": 140,
   "metadata": {},
   "outputs": [
    {
     "data": {
      "text/plain": [
       "Text(0.5, 1.0, 'COVID Word Frequencies in April-June 2020 by company')"
      ]
     },
     "execution_count": 140,
     "metadata": {},
     "output_type": "execute_result"
    },
    {
     "data": {
      "image/png": "[encoded data removed]",
      "text/plain": [
       "<Figure size 864x1008 with 1 Axes>"
      ]
     },
     "metadata": {
      "needs_background": "light"
     },
     "output_type": "display_data"
    }
   ],
   "source": [
    "covid_score_df = covid_sentim_df[covid_sentim_df.index>pd.to_datetime('2019-12-31')].groupby(['Company'])['COVID_sentiment'].agg('mean')\n",
    "\n",
    "#event_df = df.groupby('type')['type'].agg('count')\n",
    "\n",
    "fig, ax = plt.subplots(figsize=(12, 14))\n",
    "\n",
    "#org_df.sort_values(ascending=False).head(20).plot(kind='bar', color='b', alpha=0.4, ax=axes[0])\n",
    "#org_df.sort_values(ascending=True).tail(20).plot(kind='bar', color='b', alpha=0.4, ax=axes[0])\n",
    "covid_score_df.sort_values().plot(kind='barh', color='b', alpha=0.4)\n",
    "ax.set_xlabel('COVID Word Frequency')\n",
    "ax.set_title( 'COVID Word Frequencies in April-June 2020 by company')\n",
    "#event_df.sort_values().plot(kind='barh', color='b', alpha=0.4, ax=axes[1])\n",
    "\n",
    "#axes[1].set_xlabel('Number of events')\n",
    "\n",
    "#fig.subplots_adjust(wspace=0.8);"
   ]
  },
  {
   "cell_type": "markdown",
   "metadata": {},
   "source": [
    "## 5 Correlations Between Metrics\n",
    "\n",
    "In this section we want to sum up the observasions from the two previous sections and verify whether there is any correlation between the metrics we built."
   ]
  },
  {
   "cell_type": "code",
   "execution_count": null,
   "metadata": {},
   "outputs": [],
   "source": [
    "clean_tweetsdf['Date'] =  pd.to_datetime(clean_tweetsdf['Datetime']).apply(lambda x: x.date())"
   ]
  },
  {
   "cell_type": "code",
   "execution_count": 158,
   "metadata": {},
   "outputs": [],
   "source": [
    "\n",
    "def metrics_list(df): # column name to compute the metrics for it\n",
    "    #new_df = df.copy() # create a copy for precaution: so that we don't change the original df\n",
    "    metrics_list = []\n",
    "    sentiment_mask_tb = (df['Score_TextBlob'] == -1)\n",
    "    sentiment_mask_vad = (df['Score_VADER'] == -1)\n",
    "    covid_sentiment_mask = df['COVID']\n",
    "    for day in new_df['Date'].unique():\n",
    "        day_mask = (df['Date'] == day)\n",
    "        for company in df[day_mask]['Company'].unique():\n",
    "            company_mask = (df['Company']==company)\n",
    "            day_mask_short = (df[company_mask]['Date'] == day)\n",
    "            \n",
    "            day_company_mask = (day_mask & company_mask)\n",
    "            # for frequency\n",
    "            day_tweets = np.count_nonzero(day_company_mask)\n",
    "            if day_tweets != 0:\n",
    "                # TextBlob\n",
    "                day_sentim_tweets_tb = np.count_nonzero(day_company_mask & sentiment_mask_tb)\n",
    "            \n",
    "                # VADER\n",
    "                day_sentim_tweets_vad = np.count_nonzero(day_company_mask & sentiment_mask_vad)\n",
    "                    \n",
    "                # COVID\n",
    "                covid_tweets = np.count_nonzero(day_company_mask & covid_sentiment_mask)\n",
    "                \n",
    "                # for frequency\n",
    "                datetime_sorted = sorted(df['Datetime'][company_mask][day_mask_short].values)\n",
    "                day_len_min = (datetime_sorted[-1]-datetime_sorted[0]).astype('timedelta64[m]').astype(int)\n",
    "                \n",
    "                if day_len_min != 0:\n",
    "                    #freq_metric = len(datetime_sorted)/day_len_min\n",
    "                    # append the list with a list of new information\n",
    "                    metrics_list.append([company,day,\n",
    "                                        len(datetime_sorted)/day_len_min, # frequency\n",
    "                                        day_sentim_tweets_tb/day_tweets, # TextBlob metric\n",
    "                                        day_sentim_tweets_vad/day_tweets, # VADER metric\n",
    "                                        covid_tweets/day_tweets #COVID metric\n",
    "                                       ])\n",
    "              \n",
    "    return metrics_list\n"
   ]
  },
  {
   "cell_type": "code",
   "execution_count": 163,
   "metadata": {},
   "outputs": [],
   "source": [
    "metrics_lists = metrics_list(clean_tweetsdf)\n",
    "#clean_tweetsdf"
   ]
  },
  {
   "cell_type": "code",
   "execution_count": 164,
   "metadata": {},
   "outputs": [],
   "source": [
    "metrics_df = list_to_df(metrics_lists, ['Company', 'Date', 'frequency_met', 'TextBlob_met', 'VADER_met', 'COVID_met'])"
   ]
  },
  {
   "cell_type": "code",
   "execution_count": 184,
   "metadata": {},
   "outputs": [
    {
     "data": {
      "text/html": [
       "<div>\n",
       "<style scoped>\n",
       "    .dataframe tbody tr th:only-of-type {\n",
       "        vertical-align: middle;\n",
       "    }\n",
       "\n",
       "    .dataframe tbody tr th {\n",
       "        vertical-align: top;\n",
       "    }\n",
       "\n",
       "    .dataframe thead th {\n",
       "        text-align: right;\n",
       "    }\n",
       "</style>\n",
       "<table border=\"1\" class=\"dataframe\">\n",
       "  <thead>\n",
       "    <tr style=\"text-align: right;\">\n",
       "      <th></th>\n",
       "      <th>Company</th>\n",
       "      <th>frequency_met</th>\n",
       "      <th>TextBlob_met</th>\n",
       "      <th>VADER_met</th>\n",
       "      <th>COVID_met</th>\n",
       "      <th>Year</th>\n",
       "    </tr>\n",
       "    <tr>\n",
       "      <th>Date</th>\n",
       "      <th></th>\n",
       "      <th></th>\n",
       "      <th></th>\n",
       "      <th></th>\n",
       "      <th></th>\n",
       "      <th></th>\n",
       "    </tr>\n",
       "  </thead>\n",
       "  <tbody>\n",
       "    <tr>\n",
       "      <th>2018-04-22</th>\n",
       "      <td>nextofficial</td>\n",
       "      <td>0.080866</td>\n",
       "      <td>0.239437</td>\n",
       "      <td>0.183099</td>\n",
       "      <td>0.000000</td>\n",
       "      <td>2018</td>\n",
       "    </tr>\n",
       "    <tr>\n",
       "      <th>2018-04-22</th>\n",
       "      <td>AmericanAir</td>\n",
       "      <td>1.080000</td>\n",
       "      <td>0.203704</td>\n",
       "      <td>0.314815</td>\n",
       "      <td>0.000000</td>\n",
       "      <td>2018</td>\n",
       "    </tr>\n",
       "    <tr>\n",
       "      <th>2018-04-22</th>\n",
       "      <td>Tesco</td>\n",
       "      <td>0.310484</td>\n",
       "      <td>0.246753</td>\n",
       "      <td>0.272727</td>\n",
       "      <td>0.000000</td>\n",
       "      <td>2018</td>\n",
       "    </tr>\n",
       "    <tr>\n",
       "      <th>2018-04-22</th>\n",
       "      <td>AllianzTravelUS</td>\n",
       "      <td>0.003742</td>\n",
       "      <td>0.000000</td>\n",
       "      <td>0.000000</td>\n",
       "      <td>0.000000</td>\n",
       "      <td>2018</td>\n",
       "    </tr>\n",
       "    <tr>\n",
       "      <th>2018-04-22</th>\n",
       "      <td>British_Airways</td>\n",
       "      <td>0.376543</td>\n",
       "      <td>0.245902</td>\n",
       "      <td>0.377049</td>\n",
       "      <td>0.016393</td>\n",
       "      <td>2018</td>\n",
       "    </tr>\n",
       "  </tbody>\n",
       "</table>\n",
       "</div>"
      ],
      "text/plain": [
       "                    Company  frequency_met  TextBlob_met  VADER_met  \\\n",
       "Date                                                                  \n",
       "2018-04-22     nextofficial       0.080866      0.239437   0.183099   \n",
       "2018-04-22      AmericanAir       1.080000      0.203704   0.314815   \n",
       "2018-04-22            Tesco       0.310484      0.246753   0.272727   \n",
       "2018-04-22  AllianzTravelUS       0.003742      0.000000   0.000000   \n",
       "2018-04-22  British_Airways       0.376543      0.245902   0.377049   \n",
       "\n",
       "            COVID_met  Year  \n",
       "Date                         \n",
       "2018-04-22   0.000000  2018  \n",
       "2018-04-22   0.000000  2018  \n",
       "2018-04-22   0.000000  2018  \n",
       "2018-04-22   0.000000  2018  \n",
       "2018-04-22   0.016393  2018  "
      ]
     },
     "execution_count": 184,
     "metadata": {},
     "output_type": "execute_result"
    }
   ],
   "source": [
    "#sorted(metrics_df.index)[-100:-1]\n",
    "metrics_df.head()"
   ]
  },
  {
   "cell_type": "code",
   "execution_count": 181,
   "metadata": {},
   "outputs": [],
   "source": [
    "metric_df_2018_2019 = metrics_df[(metrics_df['Year']==2018) | (metrics_df['Year']==2019)]"
   ]
  },
  {
   "cell_type": "code",
   "execution_count": 189,
   "metadata": {},
   "outputs": [],
   "source": [
    "meanfreq_2018_2019 = metric_df_2018_2019.groupby(['Company'])['frequency_met'].agg('mean')\n",
    "meanTBrate_2018_2019 = metric_df_2018_2019.groupby(['Company'])['TextBlob_met'].agg('mean')\n",
    "meanVADrate_2018_2019 = metric_df_2018_2019.groupby(['Company'])['VADER_met'].agg('mean')"
   ]
  },
  {
   "cell_type": "code",
   "execution_count": 202,
   "metadata": {},
   "outputs": [],
   "source": [
    "df_2018_2019 = pd.concat([meanfreq_2018_2019, meanTBrate_2018_2019, meanVADrate_2018_2019, \n",
    "                          pd.Series(1, index = meanVADrate_2018_2019.index)], axis = 1)"
   ]
  },
  {
   "cell_type": "code",
   "execution_count": 191,
   "metadata": {},
   "outputs": [],
   "source": [
    "metrics_2020 = metrics_df[(metrics_df['Year']==2020)]"
   ]
  },
  {
   "cell_type": "code",
   "execution_count": 196,
   "metadata": {},
   "outputs": [],
   "source": [
    "meanfreq_2020 = metrics_2020.groupby(['Company'])['frequency_met'].agg('mean')\n",
    "meanTBrate_2020 = metrics_2020.groupby(['Company'])['TextBlob_met'].agg('mean')\n",
    "meanVADrate_2020 = metrics_2020.groupby(['Company'])['VADER_met'].agg('mean')\n",
    "COVIDrate_2020 = metrics_2020.groupby(['Company'])['COVID_met'].agg('mean')"
   ]
  },
  {
   "cell_type": "code",
   "execution_count": 208,
   "metadata": {},
   "outputs": [
    {
     "data": {
      "text/html": [
       "<div>\n",
       "<style scoped>\n",
       "    .dataframe tbody tr th:only-of-type {\n",
       "        vertical-align: middle;\n",
       "    }\n",
       "\n",
       "    .dataframe tbody tr th {\n",
       "        vertical-align: top;\n",
       "    }\n",
       "\n",
       "    .dataframe thead th {\n",
       "        text-align: right;\n",
       "    }\n",
       "</style>\n",
       "<table border=\"1\" class=\"dataframe\">\n",
       "  <thead>\n",
       "    <tr style=\"text-align: right;\">\n",
       "      <th></th>\n",
       "      <th>frequency_met</th>\n",
       "      <th>TextBlob_met</th>\n",
       "      <th>VADER_met</th>\n",
       "      <th>COVID_met</th>\n",
       "    </tr>\n",
       "    <tr>\n",
       "      <th>Company</th>\n",
       "      <th></th>\n",
       "      <th></th>\n",
       "      <th></th>\n",
       "      <th></th>\n",
       "    </tr>\n",
       "  </thead>\n",
       "  <tbody>\n",
       "    <tr>\n",
       "      <th>AdobeCare</th>\n",
       "      <td>1.181163</td>\n",
       "      <td>0.882650</td>\n",
       "      <td>1.025505</td>\n",
       "      <td>0.009540</td>\n",
       "    </tr>\n",
       "    <tr>\n",
       "      <th>AllianzTravelUS</th>\n",
       "      <td>1.498304</td>\n",
       "      <td>4.108017</td>\n",
       "      <td>4.734799</td>\n",
       "      <td>0.225720</td>\n",
       "    </tr>\n",
       "    <tr>\n",
       "      <th>AmazonHelp</th>\n",
       "      <td>1.953355</td>\n",
       "      <td>0.904122</td>\n",
       "      <td>0.927338</td>\n",
       "      <td>0.014745</td>\n",
       "    </tr>\n",
       "    <tr>\n",
       "      <th>AmericanAir</th>\n",
       "      <td>0.439522</td>\n",
       "      <td>0.888206</td>\n",
       "      <td>0.843242</td>\n",
       "      <td>0.116780</td>\n",
       "    </tr>\n",
       "    <tr>\n",
       "      <th>AppleSupport</th>\n",
       "      <td>1.093068</td>\n",
       "      <td>0.976968</td>\n",
       "      <td>0.903640</td>\n",
       "      <td>0.020387</td>\n",
       "    </tr>\n",
       "    <tr>\n",
       "      <th>AskLloydsBank</th>\n",
       "      <td>0.182214</td>\n",
       "      <td>0.521168</td>\n",
       "      <td>0.000000</td>\n",
       "      <td>0.000000</td>\n",
       "    </tr>\n",
       "    <tr>\n",
       "      <th>AskPlayStation</th>\n",
       "      <td>1.368722</td>\n",
       "      <td>0.994937</td>\n",
       "      <td>1.030675</td>\n",
       "      <td>0.008488</td>\n",
       "    </tr>\n",
       "    <tr>\n",
       "      <th>AskUSBank</th>\n",
       "      <td>0.728250</td>\n",
       "      <td>0.926772</td>\n",
       "      <td>0.889905</td>\n",
       "      <td>0.022990</td>\n",
       "    </tr>\n",
       "    <tr>\n",
       "      <th>AvivaUK</th>\n",
       "      <td>0.837691</td>\n",
       "      <td>1.135470</td>\n",
       "      <td>1.167616</td>\n",
       "      <td>0.103405</td>\n",
       "    </tr>\n",
       "    <tr>\n",
       "      <th>BarclaysUKHelp</th>\n",
       "      <td>1.836033</td>\n",
       "      <td>1.189443</td>\n",
       "      <td>1.234857</td>\n",
       "      <td>0.023475</td>\n",
       "    </tr>\n",
       "    <tr>\n",
       "      <th>BofA_Help</th>\n",
       "      <td>1.431306</td>\n",
       "      <td>1.103283</td>\n",
       "      <td>1.038035</td>\n",
       "      <td>0.038832</td>\n",
       "    </tr>\n",
       "    <tr>\n",
       "      <th>British_Airways</th>\n",
       "      <td>0.956436</td>\n",
       "      <td>0.992211</td>\n",
       "      <td>1.060145</td>\n",
       "      <td>0.056922</td>\n",
       "    </tr>\n",
       "    <tr>\n",
       "      <th>DirectLine</th>\n",
       "      <td>9.222330</td>\n",
       "      <td>1.410278</td>\n",
       "      <td>1.772186</td>\n",
       "      <td>0.054439</td>\n",
       "    </tr>\n",
       "    <tr>\n",
       "      <th>EAHelp</th>\n",
       "      <td>1.376360</td>\n",
       "      <td>1.155257</td>\n",
       "      <td>1.167195</td>\n",
       "      <td>0.003418</td>\n",
       "    </tr>\n",
       "    <tr>\n",
       "      <th>EE</th>\n",
       "      <td>1.282881</td>\n",
       "      <td>0.971516</td>\n",
       "      <td>1.016354</td>\n",
       "      <td>0.022654</td>\n",
       "    </tr>\n",
       "    <tr>\n",
       "      <th>Facebook</th>\n",
       "      <td>1.288200</td>\n",
       "      <td>1.150634</td>\n",
       "      <td>1.095993</td>\n",
       "      <td>0.039444</td>\n",
       "    </tr>\n",
       "    <tr>\n",
       "      <th>FedExHelp</th>\n",
       "      <td>3.469930</td>\n",
       "      <td>0.962415</td>\n",
       "      <td>1.023114</td>\n",
       "      <td>0.025694</td>\n",
       "    </tr>\n",
       "    <tr>\n",
       "      <th>HSBC</th>\n",
       "      <td>1.054566</td>\n",
       "      <td>1.445480</td>\n",
       "      <td>1.154124</td>\n",
       "      <td>0.064226</td>\n",
       "    </tr>\n",
       "    <tr>\n",
       "      <th>Hermesparcels</th>\n",
       "      <td>2.524953</td>\n",
       "      <td>0.859128</td>\n",
       "      <td>0.918309</td>\n",
       "      <td>0.022780</td>\n",
       "    </tr>\n",
       "    <tr>\n",
       "      <th>ITV</th>\n",
       "      <td>1.176378</td>\n",
       "      <td>1.226879</td>\n",
       "      <td>1.176473</td>\n",
       "      <td>0.040301</td>\n",
       "    </tr>\n",
       "    <tr>\n",
       "      <th>IntelSupport</th>\n",
       "      <td>0.960187</td>\n",
       "      <td>0.801933</td>\n",
       "      <td>0.830414</td>\n",
       "      <td>0.010965</td>\n",
       "    </tr>\n",
       "    <tr>\n",
       "      <th>Lowes</th>\n",
       "      <td>2.495935</td>\n",
       "      <td>1.044912</td>\n",
       "      <td>1.085392</td>\n",
       "      <td>0.065998</td>\n",
       "    </tr>\n",
       "    <tr>\n",
       "      <th>MicrosoftHelps</th>\n",
       "      <td>0.887226</td>\n",
       "      <td>1.067134</td>\n",
       "      <td>0.983438</td>\n",
       "      <td>0.014468</td>\n",
       "    </tr>\n",
       "    <tr>\n",
       "      <th>Morrisons</th>\n",
       "      <td>1.390402</td>\n",
       "      <td>1.196303</td>\n",
       "      <td>1.248621</td>\n",
       "      <td>0.047520</td>\n",
       "    </tr>\n",
       "    <tr>\n",
       "      <th>PNCBank_Help</th>\n",
       "      <td>2.624745</td>\n",
       "      <td>1.065831</td>\n",
       "      <td>0.945036</td>\n",
       "      <td>0.025043</td>\n",
       "    </tr>\n",
       "    <tr>\n",
       "      <th>RoyalMailHelp</th>\n",
       "      <td>1.512603</td>\n",
       "      <td>0.967355</td>\n",
       "      <td>0.932428</td>\n",
       "      <td>0.030625</td>\n",
       "    </tr>\n",
       "    <tr>\n",
       "      <th>Ryanair</th>\n",
       "      <td>1.423328</td>\n",
       "      <td>0.775746</td>\n",
       "      <td>0.907226</td>\n",
       "      <td>0.044815</td>\n",
       "    </tr>\n",
       "    <tr>\n",
       "      <th>SXM_Help</th>\n",
       "      <td>0.482656</td>\n",
       "      <td>1.005433</td>\n",
       "      <td>1.039235</td>\n",
       "      <td>0.013879</td>\n",
       "    </tr>\n",
       "    <tr>\n",
       "      <th>SkyHelpTeam</th>\n",
       "      <td>1.585007</td>\n",
       "      <td>1.062357</td>\n",
       "      <td>0.870109</td>\n",
       "      <td>0.023564</td>\n",
       "    </tr>\n",
       "    <tr>\n",
       "      <th>TUIUK</th>\n",
       "      <td>2.519389</td>\n",
       "      <td>0.904876</td>\n",
       "      <td>0.902207</td>\n",
       "      <td>0.026347</td>\n",
       "    </tr>\n",
       "    <tr>\n",
       "      <th>Tesco</th>\n",
       "      <td>2.173369</td>\n",
       "      <td>1.173023</td>\n",
       "      <td>1.209351</td>\n",
       "      <td>0.027976</td>\n",
       "    </tr>\n",
       "    <tr>\n",
       "      <th>ThreeUKSupport</th>\n",
       "      <td>1.493846</td>\n",
       "      <td>1.139711</td>\n",
       "      <td>1.112160</td>\n",
       "      <td>0.022363</td>\n",
       "    </tr>\n",
       "    <tr>\n",
       "      <th>UPSHelp</th>\n",
       "      <td>1.449450</td>\n",
       "      <td>0.978768</td>\n",
       "      <td>0.988279</td>\n",
       "      <td>0.026676</td>\n",
       "    </tr>\n",
       "    <tr>\n",
       "      <th>VZWSupport</th>\n",
       "      <td>0.984204</td>\n",
       "      <td>1.070270</td>\n",
       "      <td>1.000513</td>\n",
       "      <td>0.020392</td>\n",
       "    </tr>\n",
       "    <tr>\n",
       "      <th>VirginAtlantic</th>\n",
       "      <td>1.711441</td>\n",
       "      <td>1.151762</td>\n",
       "      <td>1.439120</td>\n",
       "      <td>0.030192</td>\n",
       "    </tr>\n",
       "    <tr>\n",
       "      <th>WholeFoods</th>\n",
       "      <td>5.302826</td>\n",
       "      <td>1.334874</td>\n",
       "      <td>1.448034</td>\n",
       "      <td>0.114247</td>\n",
       "    </tr>\n",
       "    <tr>\n",
       "      <th>airbnbhelp</th>\n",
       "      <td>1.054333</td>\n",
       "      <td>0.691001</td>\n",
       "      <td>1.351738</td>\n",
       "      <td>0.113041</td>\n",
       "    </tr>\n",
       "    <tr>\n",
       "      <th>airfrance</th>\n",
       "      <td>1.101256</td>\n",
       "      <td>0.717558</td>\n",
       "      <td>0.965105</td>\n",
       "      <td>0.061450</td>\n",
       "    </tr>\n",
       "    <tr>\n",
       "      <th>axainsurance</th>\n",
       "      <td>1.170351</td>\n",
       "      <td>0.933149</td>\n",
       "      <td>0.699189</td>\n",
       "      <td>0.058811</td>\n",
       "    </tr>\n",
       "    <tr>\n",
       "      <th>bookingcom</th>\n",
       "      <td>1.347003</td>\n",
       "      <td>1.043387</td>\n",
       "      <td>1.140478</td>\n",
       "      <td>0.120338</td>\n",
       "    </tr>\n",
       "    <tr>\n",
       "      <th>bt_uk</th>\n",
       "      <td>1.109431</td>\n",
       "      <td>0.914542</td>\n",
       "      <td>0.871050</td>\n",
       "      <td>0.023624</td>\n",
       "    </tr>\n",
       "    <tr>\n",
       "      <th>dhlexpressuk</th>\n",
       "      <td>1.704231</td>\n",
       "      <td>1.014568</td>\n",
       "      <td>1.001193</td>\n",
       "      <td>0.032698</td>\n",
       "    </tr>\n",
       "    <tr>\n",
       "      <th>easyJet</th>\n",
       "      <td>1.512787</td>\n",
       "      <td>0.780106</td>\n",
       "      <td>0.899340</td>\n",
       "      <td>0.039196</td>\n",
       "    </tr>\n",
       "    <tr>\n",
       "      <th>kiwicom247</th>\n",
       "      <td>1.559105</td>\n",
       "      <td>1.084482</td>\n",
       "      <td>1.215992</td>\n",
       "      <td>0.068191</td>\n",
       "    </tr>\n",
       "    <tr>\n",
       "      <th>marksandspencer</th>\n",
       "      <td>1.011795</td>\n",
       "      <td>0.967546</td>\n",
       "      <td>0.942385</td>\n",
       "      <td>0.039480</td>\n",
       "    </tr>\n",
       "    <tr>\n",
       "      <th>nextofficial</th>\n",
       "      <td>1.223266</td>\n",
       "      <td>1.062454</td>\n",
       "      <td>1.185711</td>\n",
       "      <td>0.034150</td>\n",
       "    </tr>\n",
       "    <tr>\n",
       "      <th>nvidiacc</th>\n",
       "      <td>5.581520</td>\n",
       "      <td>0.856449</td>\n",
       "      <td>0.686116</td>\n",
       "      <td>0.010417</td>\n",
       "    </tr>\n",
       "    <tr>\n",
       "      <th>priceline</th>\n",
       "      <td>1.277029</td>\n",
       "      <td>1.050495</td>\n",
       "      <td>1.261913</td>\n",
       "      <td>0.096069</td>\n",
       "    </tr>\n",
       "    <tr>\n",
       "      <th>sainsburys</th>\n",
       "      <td>1.430611</td>\n",
       "      <td>1.337907</td>\n",
       "      <td>1.180735</td>\n",
       "      <td>0.035518</td>\n",
       "    </tr>\n",
       "  </tbody>\n",
       "</table>\n",
       "</div>"
      ],
      "text/plain": [
       "                 frequency_met  TextBlob_met  VADER_met  COVID_met\n",
       "Company                                                           \n",
       "AdobeCare             1.181163      0.882650   1.025505   0.009540\n",
       "AllianzTravelUS       1.498304      4.108017   4.734799   0.225720\n",
       "AmazonHelp            1.953355      0.904122   0.927338   0.014745\n",
       "AmericanAir           0.439522      0.888206   0.843242   0.116780\n",
       "AppleSupport          1.093068      0.976968   0.903640   0.020387\n",
       "AskLloydsBank         0.182214      0.521168   0.000000   0.000000\n",
       "AskPlayStation        1.368722      0.994937   1.030675   0.008488\n",
       "AskUSBank             0.728250      0.926772   0.889905   0.022990\n",
       "AvivaUK               0.837691      1.135470   1.167616   0.103405\n",
       "BarclaysUKHelp        1.836033      1.189443   1.234857   0.023475\n",
       "BofA_Help             1.431306      1.103283   1.038035   0.038832\n",
       "British_Airways       0.956436      0.992211   1.060145   0.056922\n",
       "DirectLine            9.222330      1.410278   1.772186   0.054439\n",
       "EAHelp                1.376360      1.155257   1.167195   0.003418\n",
       "EE                    1.282881      0.971516   1.016354   0.022654\n",
       "Facebook              1.288200      1.150634   1.095993   0.039444\n",
       "FedExHelp             3.469930      0.962415   1.023114   0.025694\n",
       "HSBC                  1.054566      1.445480   1.154124   0.064226\n",
       "Hermesparcels         2.524953      0.859128   0.918309   0.022780\n",
       "ITV                   1.176378      1.226879   1.176473   0.040301\n",
       "IntelSupport          0.960187      0.801933   0.830414   0.010965\n",
       "Lowes                 2.495935      1.044912   1.085392   0.065998\n",
       "MicrosoftHelps        0.887226      1.067134   0.983438   0.014468\n",
       "Morrisons             1.390402      1.196303   1.248621   0.047520\n",
       "PNCBank_Help          2.624745      1.065831   0.945036   0.025043\n",
       "RoyalMailHelp         1.512603      0.967355   0.932428   0.030625\n",
       "Ryanair               1.423328      0.775746   0.907226   0.044815\n",
       "SXM_Help              0.482656      1.005433   1.039235   0.013879\n",
       "SkyHelpTeam           1.585007      1.062357   0.870109   0.023564\n",
       "TUIUK                 2.519389      0.904876   0.902207   0.026347\n",
       "Tesco                 2.173369      1.173023   1.209351   0.027976\n",
       "ThreeUKSupport        1.493846      1.139711   1.112160   0.022363\n",
       "UPSHelp               1.449450      0.978768   0.988279   0.026676\n",
       "VZWSupport            0.984204      1.070270   1.000513   0.020392\n",
       "VirginAtlantic        1.711441      1.151762   1.439120   0.030192\n",
       "WholeFoods            5.302826      1.334874   1.448034   0.114247\n",
       "airbnbhelp            1.054333      0.691001   1.351738   0.113041\n",
       "airfrance             1.101256      0.717558   0.965105   0.061450\n",
       "axainsurance          1.170351      0.933149   0.699189   0.058811\n",
       "bookingcom            1.347003      1.043387   1.140478   0.120338\n",
       "bt_uk                 1.109431      0.914542   0.871050   0.023624\n",
       "dhlexpressuk          1.704231      1.014568   1.001193   0.032698\n",
       "easyJet               1.512787      0.780106   0.899340   0.039196\n",
       "kiwicom247            1.559105      1.084482   1.215992   0.068191\n",
       "marksandspencer       1.011795      0.967546   0.942385   0.039480\n",
       "nextofficial          1.223266      1.062454   1.185711   0.034150\n",
       "nvidiacc              5.581520      0.856449   0.686116   0.010417\n",
       "priceline             1.277029      1.050495   1.261913   0.096069\n",
       "sainsburys            1.430611      1.337907   1.180735   0.035518"
      ]
     },
     "execution_count": 208,
     "metadata": {},
     "output_type": "execute_result"
    }
   ],
   "source": [
    "df_2020 = pd.concat([meanfreq_2020, meanTBrate_2020, meanVADrate_2020, COVIDrate_2020], axis = 1)\n",
    "df_2020 = df_2020/df_2018_2019.values\n",
    " "
   ]
  },
  {
   "cell_type": "code",
   "execution_count": 237,
   "metadata": {},
   "outputs": [
    {
     "data": {
      "application/vnd.plotly.v1+json": {
       "config": {
        "plotlyServerURL": "https://plot.ly"
       },
       "data": [
        {
         "dimensions": [
          {
           "label": "frequency_met",
           "values": [
            1.181163115052283,
            1.4983038167180265,
            1.9533552533682728,
            0.43952176944988536,
            1.093067741523006,
            0.1822141859414247,
            1.3687216356040635,
            0.7282501794925386,
            0.8376914496078747,
            1.8360331311076137,
            1.431306494679869,
            0.9564362927992864,
            9.222330317455356,
            1.376359799732339,
            1.2828810399469808,
            1.288200273235123,
            3.469929827783579,
            1.0545658884386124,
            2.52495284530921,
            1.1763776751060757,
            0.9601867235577394,
            2.4959350894926096,
            0.8872259670332427,
            1.3904021162885154,
            2.624745269447632,
            1.5126030319615276,
            1.4233280097272067,
            0.4826557867261892,
            1.5850065883482385,
            2.5193886806502306,
            2.17336918387438,
            1.4938460974999948,
            1.4494498038649046,
            0.9842039732244926,
            1.7114405474454,
            5.302825740272865,
            1.0543326166635196,
            1.1012556307982972,
            1.1703508997257406,
            1.3470029127522896,
            1.109431382527015,
            1.7042309599127177,
            1.5127866208380885,
            1.5591049016116907,
            1.0117951047402085,
            1.2232663773400507,
            5.581519695634938,
            1.2770291502851987,
            1.43061087607063
           ]
          },
          {
           "label": "TextBlob_met",
           "values": [
            0.8826495139091115,
            4.108017310835205,
            0.9041224308128808,
            0.8882063658016734,
            0.9769678558507721,
            0.5211678296816918,
            0.9949365619155864,
            0.9267724113919852,
            1.1354698861337602,
            1.189442725536513,
            1.1032825932497996,
            0.9922113121619355,
            1.4102782569102241,
            1.1552568801052334,
            0.9715159158183982,
            1.150633894068854,
            0.9624149048992209,
            1.4454799758012302,
            0.8591277134682674,
            1.226879489198436,
            0.8019326042228347,
            1.0449122820889425,
            1.067134258155854,
            1.1963031947336946,
            1.065830535619668,
            0.9673550060326169,
            0.7757464567878639,
            1.0054328771523087,
            1.062356993603221,
            0.904876234817653,
            1.1730233074390486,
            1.139711105910083,
            0.9787679535169514,
            1.070270281197164,
            1.1517618104933645,
            1.3348737796411119,
            0.6910005131986752,
            0.7175584166769919,
            0.9331487403710057,
            1.0433870001696497,
            0.9145416695537509,
            1.0145680197808489,
            0.7801063131777201,
            1.0844815105415564,
            0.96754581358387,
            1.0624538028746238,
            0.8564492344377511,
            1.0504948834328063,
            1.337907228806215
           ]
          },
          {
           "label": "VADER_met",
           "values": [
            1.0255046565972865,
            4.734798625333258,
            0.927338023723769,
            0.8432419088579239,
            0.9036404901630108,
            0,
            1.0306754708273635,
            0.8899053895366411,
            1.167615946750564,
            1.2348569093097548,
            1.0380353924918724,
            1.0601450802656505,
            1.7721863650776402,
            1.1671947650490901,
            1.0163543249959095,
            1.0959926303674061,
            1.0231141915078756,
            1.1541235136998416,
            0.9183086135161953,
            1.1764731317022055,
            0.8304144548770441,
            1.0853915777643568,
            0.983437572281548,
            1.2486208664718221,
            0.9450363342325176,
            0.9324281132159032,
            0.9072257383545194,
            1.0392354645867339,
            0.8701089965941513,
            0.9022065614797828,
            1.209350521596851,
            1.1121599985021653,
            0.9882792660588404,
            1.0005134722586124,
            1.439119818111424,
            1.4480344641700649,
            1.3517375373644656,
            0.9651045462526264,
            0.6991890583120713,
            1.1404777464476306,
            0.8710496778329193,
            1.0011927078989553,
            0.8993399382686414,
            1.2159919392858314,
            0.9423850186932968,
            1.1857107668668248,
            0.6861161433172305,
            1.2619134873420574,
            1.1807350627953246
           ]
          },
          {
           "label": "COVID_met",
           "values": [
            0.009539628458641107,
            0.2257199546485261,
            0.014745006229422623,
            0.11677967683149888,
            0.02038663698845605,
            0,
            0.008487565686641805,
            0.022990067100715526,
            0.10340487082953326,
            0.023475100675462837,
            0.03883234945966775,
            0.05692160661588346,
            0.05443902738693996,
            0.003418262679792031,
            0.022653703323764315,
            0.039444314409345115,
            0.025693753396063206,
            0.06422571106329843,
            0.022779736036943287,
            0.040301139725689765,
            0.010964912280701754,
            0.06599842381267916,
            0.014468237560614333,
            0.04751975033531786,
            0.02504323479898578,
            0.030624729711923596,
            0.044815149947803,
            0.013878795716700296,
            0.02356409237809508,
            0.026346605179767925,
            0.027975694662510757,
            0.02236312717125106,
            0.02667623957958991,
            0.02039199226656195,
            0.030191949945762797,
            0.11424700793465842,
            0.11304100270530978,
            0.061450364793714976,
            0.058810532290998155,
            0.12033790052091795,
            0.023624138652648143,
            0.03269795462615706,
            0.03919607827866289,
            0.06819141696065069,
            0.03947990665892097,
            0.03414967976026019,
            0.010416666666666666,
            0.09606933724092019,
            0.035518114116083944
           ]
          }
         ],
         "marker": {
          "line": {
           "color": "white",
           "width": 0.5
          }
         },
         "text": [
          "AdobeCare",
          "AllianzTravelUS",
          "AmazonHelp",
          "AmericanAir",
          "AppleSupport",
          "AskLloydsBank",
          "AskPlayStation",
          "AskUSBank",
          "AvivaUK",
          "BarclaysUKHelp",
          "BofA_Help",
          "British_Airways",
          "DirectLine",
          "EAHelp",
          "EE",
          "Facebook",
          "FedExHelp",
          "HSBC",
          "Hermesparcels",
          "ITV",
          "IntelSupport",
          "Lowes",
          "MicrosoftHelps",
          "Morrisons",
          "PNCBank_Help",
          "RoyalMailHelp",
          "Ryanair",
          "SXM_Help",
          "SkyHelpTeam",
          "TUIUK",
          "Tesco",
          "ThreeUKSupport",
          "UPSHelp",
          "VZWSupport",
          "VirginAtlantic",
          "WholeFoods",
          "airbnbhelp",
          "airfrance",
          "axainsurance",
          "bookingcom",
          "bt_uk",
          "dhlexpressuk",
          "easyJet",
          "kiwicom247",
          "marksandspencer",
          "nextofficial",
          "nvidiacc",
          "priceline",
          "sainsburys"
         ],
         "type": "splom"
        }
       ],
       "layout": {
        "dragmode": "select",
        "height": 900,
        "hovermode": "closest",
        "template": {
         "data": {
          "bar": [
           {
            "error_x": {
             "color": "#2a3f5f"
            },
            "error_y": {
             "color": "#2a3f5f"
            },
            "marker": {
             "line": {
              "color": "#E5ECF6",
              "width": 0.5
             }
            },
            "type": "bar"
           }
          ],
          "barpolar": [
           {
            "marker": {
             "line": {
              "color": "#E5ECF6",
              "width": 0.5
             }
            },
            "type": "barpolar"
           }
          ],
          "carpet": [
           {
            "aaxis": {
             "endlinecolor": "#2a3f5f",
             "gridcolor": "white",
             "linecolor": "white",
             "minorgridcolor": "white",
             "startlinecolor": "#2a3f5f"
            },
            "baxis": {
             "endlinecolor": "#2a3f5f",
             "gridcolor": "white",
             "linecolor": "white",
             "minorgridcolor": "white",
             "startlinecolor": "#2a3f5f"
            },
            "type": "carpet"
           }
          ],
          "choropleth": [
           {
            "colorbar": {
             "outlinewidth": 0,
             "ticks": ""
            },
            "type": "choropleth"
           }
          ],
          "contour": [
           {
            "colorbar": {
             "outlinewidth": 0,
             "ticks": ""
            },
            "colorscale": [
             [
              0,
              "#0d0887"
             ],
             [
              0.1111111111111111,
              "#46039f"
             ],
             [
              0.2222222222222222,
              "#7201a8"
             ],
             [
              0.3333333333333333,
              "#9c179e"
             ],
             [
              0.4444444444444444,
              "#bd3786"
             ],
             [
              0.5555555555555556,
              "#d8576b"
             ],
             [
              0.6666666666666666,
              "#ed7953"
             ],
             [
              0.7777777777777778,
              "#fb9f3a"
             ],
             [
              0.8888888888888888,
              "#fdca26"
             ],
             [
              1,
              "#f0f921"
             ]
            ],
            "type": "contour"
           }
          ],
          "contourcarpet": [
           {
            "colorbar": {
             "outlinewidth": 0,
             "ticks": ""
            },
            "type": "contourcarpet"
           }
          ],
          "heatmap": [
           {
            "colorbar": {
             "outlinewidth": 0,
             "ticks": ""
            },
            "colorscale": [
             [
              0,
              "#0d0887"
             ],
             [
              0.1111111111111111,
              "#46039f"
             ],
             [
              0.2222222222222222,
              "#7201a8"
             ],
             [
              0.3333333333333333,
              "#9c179e"
             ],
             [
              0.4444444444444444,
              "#bd3786"
             ],
             [
              0.5555555555555556,
              "#d8576b"
             ],
             [
              0.6666666666666666,
              "#ed7953"
             ],
             [
              0.7777777777777778,
              "#fb9f3a"
             ],
             [
              0.8888888888888888,
              "#fdca26"
             ],
             [
              1,
              "#f0f921"
             ]
            ],
            "type": "heatmap"
           }
          ],
          "heatmapgl": [
           {
            "colorbar": {
             "outlinewidth": 0,
             "ticks": ""
            },
            "colorscale": [
             [
              0,
              "#0d0887"
             ],
             [
              0.1111111111111111,
              "#46039f"
             ],
             [
              0.2222222222222222,
              "#7201a8"
             ],
             [
              0.3333333333333333,
              "#9c179e"
             ],
             [
              0.4444444444444444,
              "#bd3786"
             ],
             [
              0.5555555555555556,
              "#d8576b"
             ],
             [
              0.6666666666666666,
              "#ed7953"
             ],
             [
              0.7777777777777778,
              "#fb9f3a"
             ],
             [
              0.8888888888888888,
              "#fdca26"
             ],
             [
              1,
              "#f0f921"
             ]
            ],
            "type": "heatmapgl"
           }
          ],
          "histogram": [
           {
            "marker": {
             "colorbar": {
              "outlinewidth": 0,
              "ticks": ""
             }
            },
            "type": "histogram"
           }
          ],
          "histogram2d": [
           {
            "colorbar": {
             "outlinewidth": 0,
             "ticks": ""
            },
            "colorscale": [
             [
              0,
              "#0d0887"
             ],
             [
              0.1111111111111111,
              "#46039f"
             ],
             [
              0.2222222222222222,
              "#7201a8"
             ],
             [
              0.3333333333333333,
              "#9c179e"
             ],
             [
              0.4444444444444444,
              "#bd3786"
             ],
             [
              0.5555555555555556,
              "#d8576b"
             ],
             [
              0.6666666666666666,
              "#ed7953"
             ],
             [
              0.7777777777777778,
              "#fb9f3a"
             ],
             [
              0.8888888888888888,
              "#fdca26"
             ],
             [
              1,
              "#f0f921"
             ]
            ],
            "type": "histogram2d"
           }
          ],
          "histogram2dcontour": [
           {
            "colorbar": {
             "outlinewidth": 0,
             "ticks": ""
            },
            "colorscale": [
             [
              0,
              "#0d0887"
             ],
             [
              0.1111111111111111,
              "#46039f"
             ],
             [
              0.2222222222222222,
              "#7201a8"
             ],
             [
              0.3333333333333333,
              "#9c179e"
             ],
             [
              0.4444444444444444,
              "#bd3786"
             ],
             [
              0.5555555555555556,
              "#d8576b"
             ],
             [
              0.6666666666666666,
              "#ed7953"
             ],
             [
              0.7777777777777778,
              "#fb9f3a"
             ],
             [
              0.8888888888888888,
              "#fdca26"
             ],
             [
              1,
              "#f0f921"
             ]
            ],
            "type": "histogram2dcontour"
           }
          ],
          "mesh3d": [
           {
            "colorbar": {
             "outlinewidth": 0,
             "ticks": ""
            },
            "type": "mesh3d"
           }
          ],
          "parcoords": [
           {
            "line": {
             "colorbar": {
              "outlinewidth": 0,
              "ticks": ""
             }
            },
            "type": "parcoords"
           }
          ],
          "pie": [
           {
            "automargin": true,
            "type": "pie"
           }
          ],
          "scatter": [
           {
            "marker": {
             "colorbar": {
              "outlinewidth": 0,
              "ticks": ""
             }
            },
            "type": "scatter"
           }
          ],
          "scatter3d": [
           {
            "line": {
             "colorbar": {
              "outlinewidth": 0,
              "ticks": ""
             }
            },
            "marker": {
             "colorbar": {
              "outlinewidth": 0,
              "ticks": ""
             }
            },
            "type": "scatter3d"
           }
          ],
          "scattercarpet": [
           {
            "marker": {
             "colorbar": {
              "outlinewidth": 0,
              "ticks": ""
             }
            },
            "type": "scattercarpet"
           }
          ],
          "scattergeo": [
           {
            "marker": {
             "colorbar": {
              "outlinewidth": 0,
              "ticks": ""
             }
            },
            "type": "scattergeo"
           }
          ],
          "scattergl": [
           {
            "marker": {
             "colorbar": {
              "outlinewidth": 0,
              "ticks": ""
             }
            },
            "type": "scattergl"
           }
          ],
          "scattermapbox": [
           {
            "marker": {
             "colorbar": {
              "outlinewidth": 0,
              "ticks": ""
             }
            },
            "type": "scattermapbox"
           }
          ],
          "scatterpolar": [
           {
            "marker": {
             "colorbar": {
              "outlinewidth": 0,
              "ticks": ""
             }
            },
            "type": "scatterpolar"
           }
          ],
          "scatterpolargl": [
           {
            "marker": {
             "colorbar": {
              "outlinewidth": 0,
              "ticks": ""
             }
            },
            "type": "scatterpolargl"
           }
          ],
          "scatterternary": [
           {
            "marker": {
             "colorbar": {
              "outlinewidth": 0,
              "ticks": ""
             }
            },
            "type": "scatterternary"
           }
          ],
          "surface": [
           {
            "colorbar": {
             "outlinewidth": 0,
             "ticks": ""
            },
            "colorscale": [
             [
              0,
              "#0d0887"
             ],
             [
              0.1111111111111111,
              "#46039f"
             ],
             [
              0.2222222222222222,
              "#7201a8"
             ],
             [
              0.3333333333333333,
              "#9c179e"
             ],
             [
              0.4444444444444444,
              "#bd3786"
             ],
             [
              0.5555555555555556,
              "#d8576b"
             ],
             [
              0.6666666666666666,
              "#ed7953"
             ],
             [
              0.7777777777777778,
              "#fb9f3a"
             ],
             [
              0.8888888888888888,
              "#fdca26"
             ],
             [
              1,
              "#f0f921"
             ]
            ],
            "type": "surface"
           }
          ],
          "table": [
           {
            "cells": {
             "fill": {
              "color": "#EBF0F8"
             },
             "line": {
              "color": "white"
             }
            },
            "header": {
             "fill": {
              "color": "#C8D4E3"
             },
             "line": {
              "color": "white"
             }
            },
            "type": "table"
           }
          ]
         },
         "layout": {
          "annotationdefaults": {
           "arrowcolor": "#2a3f5f",
           "arrowhead": 0,
           "arrowwidth": 1
          },
          "autotypenumbers": "strict",
          "coloraxis": {
           "colorbar": {
            "outlinewidth": 0,
            "ticks": ""
           }
          },
          "colorscale": {
           "diverging": [
            [
             0,
             "#8e0152"
            ],
            [
             0.1,
             "#c51b7d"
            ],
            [
             0.2,
             "#de77ae"
            ],
            [
             0.3,
             "#f1b6da"
            ],
            [
             0.4,
             "#fde0ef"
            ],
            [
             0.5,
             "#f7f7f7"
            ],
            [
             0.6,
             "#e6f5d0"
            ],
            [
             0.7,
             "#b8e186"
            ],
            [
             0.8,
             "#7fbc41"
            ],
            [
             0.9,
             "#4d9221"
            ],
            [
             1,
             "#276419"
            ]
           ],
           "sequential": [
            [
             0,
             "#0d0887"
            ],
            [
             0.1111111111111111,
             "#46039f"
            ],
            [
             0.2222222222222222,
             "#7201a8"
            ],
            [
             0.3333333333333333,
             "#9c179e"
            ],
            [
             0.4444444444444444,
             "#bd3786"
            ],
            [
             0.5555555555555556,
             "#d8576b"
            ],
            [
             0.6666666666666666,
             "#ed7953"
            ],
            [
             0.7777777777777778,
             "#fb9f3a"
            ],
            [
             0.8888888888888888,
             "#fdca26"
            ],
            [
             1,
             "#f0f921"
            ]
           ],
           "sequentialminus": [
            [
             0,
             "#0d0887"
            ],
            [
             0.1111111111111111,
             "#46039f"
            ],
            [
             0.2222222222222222,
             "#7201a8"
            ],
            [
             0.3333333333333333,
             "#9c179e"
            ],
            [
             0.4444444444444444,
             "#bd3786"
            ],
            [
             0.5555555555555556,
             "#d8576b"
            ],
            [
             0.6666666666666666,
             "#ed7953"
            ],
            [
             0.7777777777777778,
             "#fb9f3a"
            ],
            [
             0.8888888888888888,
             "#fdca26"
            ],
            [
             1,
             "#f0f921"
            ]
           ]
          },
          "colorway": [
           "#636efa",
           "#EF553B",
           "#00cc96",
           "#ab63fa",
           "#FFA15A",
           "#19d3f3",
           "#FF6692",
           "#B6E880",
           "#FF97FF",
           "#FECB52"
          ],
          "font": {
           "color": "#2a3f5f"
          },
          "geo": {
           "bgcolor": "white",
           "lakecolor": "white",
           "landcolor": "#E5ECF6",
           "showlakes": true,
           "showland": true,
           "subunitcolor": "white"
          },
          "hoverlabel": {
           "align": "left"
          },
          "hovermode": "closest",
          "mapbox": {
           "style": "light"
          },
          "paper_bgcolor": "white",
          "plot_bgcolor": "#E5ECF6",
          "polar": {
           "angularaxis": {
            "gridcolor": "white",
            "linecolor": "white",
            "ticks": ""
           },
           "bgcolor": "#E5ECF6",
           "radialaxis": {
            "gridcolor": "white",
            "linecolor": "white",
            "ticks": ""
           }
          },
          "scene": {
           "xaxis": {
            "backgroundcolor": "#E5ECF6",
            "gridcolor": "white",
            "gridwidth": 2,
            "linecolor": "white",
            "showbackground": true,
            "ticks": "",
            "zerolinecolor": "white"
           },
           "yaxis": {
            "backgroundcolor": "#E5ECF6",
            "gridcolor": "white",
            "gridwidth": 2,
            "linecolor": "white",
            "showbackground": true,
            "ticks": "",
            "zerolinecolor": "white"
           },
           "zaxis": {
            "backgroundcolor": "#E5ECF6",
            "gridcolor": "white",
            "gridwidth": 2,
            "linecolor": "white",
            "showbackground": true,
            "ticks": "",
            "zerolinecolor": "white"
           }
          },
          "shapedefaults": {
           "line": {
            "color": "#2a3f5f"
           }
          },
          "ternary": {
           "aaxis": {
            "gridcolor": "white",
            "linecolor": "white",
            "ticks": ""
           },
           "baxis": {
            "gridcolor": "white",
            "linecolor": "white",
            "ticks": ""
           },
           "bgcolor": "#E5ECF6",
           "caxis": {
            "gridcolor": "white",
            "linecolor": "white",
            "ticks": ""
           }
          },
          "title": {
           "x": 0.05
          },
          "xaxis": {
           "automargin": true,
           "gridcolor": "white",
           "linecolor": "white",
           "ticks": "",
           "title": {
            "standoff": 15
           },
           "zerolinecolor": "white",
           "zerolinewidth": 2
          },
          "yaxis": {
           "automargin": true,
           "gridcolor": "white",
           "linecolor": "white",
           "ticks": "",
           "title": {
            "standoff": 15
           },
           "zerolinecolor": "white",
           "zerolinewidth": 2
          }
         }
        },
        "title": {
         "text": "Correlation of Twitter Metrics"
        },
        "width": 900
       }
      },
      "text/html": [
       "<div>                            <div id=\"36eb251e-3eea-4685-86d7-5ecc7895693b\" class=\"plotly-graph-div\" style=\"height:900px; width:900px;\"></div>            <script type=\"text/javascript\">                require([\"plotly\"], function(Plotly) {                    window.PLOTLYENV=window.PLOTLYENV || {};                                    if (document.getElementById(\"36eb251e-3eea-4685-86d7-5ecc7895693b\")) {                    Plotly.newPlot(                        \"36eb251e-3eea-4685-86d7-5ecc7895693b\",                        [{\"dimensions\": [{\"label\": \"frequency_met\", \"values\": [1.181163115052283, 1.4983038167180265, 1.9533552533682728, 0.43952176944988536, 1.093067741523006, 0.1822141859414247, 1.3687216356040635, 0.7282501794925386, 0.8376914496078747, 1.8360331311076137, 1.431306494679869, 0.9564362927992864, 9.222330317455356, 1.376359799732339, 1.2828810399469808, 1.288200273235123, 3.469929827783579, 1.0545658884386124, 2.52495284530921, 1.1763776751060757, 0.9601867235577394, 2.4959350894926096, 0.8872259670332427, 1.3904021162885154, 2.624745269447632, 1.5126030319615276, 1.4233280097272067, 0.4826557867261892, 1.5850065883482385, 2.5193886806502306, 2.17336918387438, 1.4938460974999948, 1.4494498038649046, 0.9842039732244926, 1.7114405474454, 5.302825740272865, 1.0543326166635196, 1.1012556307982972, 1.1703508997257406, 1.3470029127522896, 1.109431382527015, 1.7042309599127177, 1.5127866208380885, 1.5591049016116907, 1.0117951047402085, 1.2232663773400507, 5.581519695634938, 1.2770291502851987, 1.43061087607063]}, {\"label\": \"TextBlob_met\", \"values\": [0.8826495139091115, 4.108017310835205, 0.9041224308128808, 0.8882063658016734, 0.9769678558507721, 0.5211678296816918, 0.9949365619155864, 0.9267724113919852, 1.1354698861337602, 1.189442725536513, 1.1032825932497996, 0.9922113121619355, 1.4102782569102241, 1.1552568801052334, 0.9715159158183982, 1.150633894068854, 0.9624149048992209, 1.4454799758012302, 0.8591277134682674, 1.226879489198436, 0.8019326042228347, 1.0449122820889425, 1.067134258155854, 1.1963031947336946, 1.065830535619668, 0.9673550060326169, 0.7757464567878639, 1.0054328771523087, 1.062356993603221, 0.904876234817653, 1.1730233074390486, 1.139711105910083, 0.9787679535169514, 1.070270281197164, 1.1517618104933645, 1.3348737796411119, 0.6910005131986752, 0.7175584166769919, 0.9331487403710057, 1.0433870001696497, 0.9145416695537509, 1.0145680197808489, 0.7801063131777201, 1.0844815105415564, 0.96754581358387, 1.0624538028746238, 0.8564492344377511, 1.0504948834328063, 1.337907228806215]}, {\"label\": \"VADER_met\", \"values\": [1.0255046565972865, 4.734798625333258, 0.927338023723769, 0.8432419088579239, 0.9036404901630108, 0.0, 1.0306754708273635, 0.8899053895366411, 1.167615946750564, 1.2348569093097548, 1.0380353924918724, 1.0601450802656505, 1.7721863650776402, 1.1671947650490901, 1.0163543249959095, 1.0959926303674061, 1.0231141915078756, 1.1541235136998416, 0.9183086135161953, 1.1764731317022055, 0.8304144548770441, 1.0853915777643568, 0.983437572281548, 1.2486208664718221, 0.9450363342325176, 0.9324281132159032, 0.9072257383545194, 1.0392354645867339, 0.8701089965941513, 0.9022065614797828, 1.209350521596851, 1.1121599985021653, 0.9882792660588404, 1.0005134722586124, 1.439119818111424, 1.4480344641700649, 1.3517375373644656, 0.9651045462526264, 0.6991890583120713, 1.1404777464476306, 0.8710496778329193, 1.0011927078989553, 0.8993399382686414, 1.2159919392858314, 0.9423850186932968, 1.1857107668668248, 0.6861161433172305, 1.2619134873420574, 1.1807350627953246]}, {\"label\": \"COVID_met\", \"values\": [0.009539628458641107, 0.2257199546485261, 0.014745006229422623, 0.11677967683149888, 0.02038663698845605, 0.0, 0.008487565686641805, 0.022990067100715526, 0.10340487082953326, 0.023475100675462837, 0.03883234945966775, 0.05692160661588346, 0.05443902738693996, 0.003418262679792031, 0.022653703323764315, 0.039444314409345115, 0.025693753396063206, 0.06422571106329843, 0.022779736036943287, 0.040301139725689765, 0.010964912280701754, 0.06599842381267916, 0.014468237560614333, 0.04751975033531786, 0.02504323479898578, 0.030624729711923596, 0.044815149947803, 0.013878795716700296, 0.02356409237809508, 0.026346605179767925, 0.027975694662510757, 0.02236312717125106, 0.02667623957958991, 0.02039199226656195, 0.030191949945762797, 0.11424700793465842, 0.11304100270530978, 0.061450364793714976, 0.058810532290998155, 0.12033790052091795, 0.023624138652648143, 0.03269795462615706, 0.03919607827866289, 0.06819141696065069, 0.03947990665892097, 0.03414967976026019, 0.010416666666666666, 0.09606933724092019, 0.035518114116083944]}], \"marker\": {\"line\": {\"color\": \"white\", \"width\": 0.5}}, \"text\": [\"AdobeCare\", \"AllianzTravelUS\", \"AmazonHelp\", \"AmericanAir\", \"AppleSupport\", \"AskLloydsBank\", \"AskPlayStation\", \"AskUSBank\", \"AvivaUK\", \"BarclaysUKHelp\", \"BofA_Help\", \"British_Airways\", \"DirectLine\", \"EAHelp\", \"EE\", \"Facebook\", \"FedExHelp\", \"HSBC\", \"Hermesparcels\", \"ITV\", \"IntelSupport\", \"Lowes\", \"MicrosoftHelps\", \"Morrisons\", \"PNCBank_Help\", \"RoyalMailHelp\", \"Ryanair\", \"SXM_Help\", \"SkyHelpTeam\", \"TUIUK\", \"Tesco\", \"ThreeUKSupport\", \"UPSHelp\", \"VZWSupport\", \"VirginAtlantic\", \"WholeFoods\", \"airbnbhelp\", \"airfrance\", \"axainsurance\", \"bookingcom\", \"bt_uk\", \"dhlexpressuk\", \"easyJet\", \"kiwicom247\", \"marksandspencer\", \"nextofficial\", \"nvidiacc\", \"priceline\", \"sainsburys\"], \"type\": \"splom\"}],                        {\"dragmode\": \"select\", \"height\": 900, \"hovermode\": \"closest\", \"template\": {\"data\": {\"bar\": [{\"error_x\": {\"color\": \"#2a3f5f\"}, \"error_y\": {\"color\": \"#2a3f5f\"}, \"marker\": {\"line\": {\"color\": \"#E5ECF6\", \"width\": 0.5}}, \"type\": \"bar\"}], \"barpolar\": [{\"marker\": {\"line\": {\"color\": \"#E5ECF6\", \"width\": 0.5}}, \"type\": \"barpolar\"}], \"carpet\": [{\"aaxis\": {\"endlinecolor\": \"#2a3f5f\", \"gridcolor\": \"white\", \"linecolor\": \"white\", \"minorgridcolor\": \"white\", \"startlinecolor\": \"#2a3f5f\"}, \"baxis\": {\"endlinecolor\": \"#2a3f5f\", \"gridcolor\": \"white\", \"linecolor\": \"white\", \"minorgridcolor\": \"white\", \"startlinecolor\": \"#2a3f5f\"}, \"type\": \"carpet\"}], \"choropleth\": [{\"colorbar\": {\"outlinewidth\": 0, \"ticks\": \"\"}, \"type\": \"choropleth\"}], \"contour\": [{\"colorbar\": {\"outlinewidth\": 0, \"ticks\": \"\"}, \"colorscale\": [[0.0, \"#0d0887\"], [0.1111111111111111, \"#46039f\"], [0.2222222222222222, \"#7201a8\"], [0.3333333333333333, \"#9c179e\"], [0.4444444444444444, \"#bd3786\"], [0.5555555555555556, \"#d8576b\"], [0.6666666666666666, \"#ed7953\"], [0.7777777777777778, \"#fb9f3a\"], [0.8888888888888888, \"#fdca26\"], [1.0, \"#f0f921\"]], \"type\": \"contour\"}], \"contourcarpet\": [{\"colorbar\": {\"outlinewidth\": 0, \"ticks\": \"\"}, \"type\": \"contourcarpet\"}], \"heatmap\": [{\"colorbar\": {\"outlinewidth\": 0, \"ticks\": \"\"}, \"colorscale\": [[0.0, \"#0d0887\"], [0.1111111111111111, \"#46039f\"], [0.2222222222222222, \"#7201a8\"], [0.3333333333333333, \"#9c179e\"], [0.4444444444444444, \"#bd3786\"], [0.5555555555555556, \"#d8576b\"], [0.6666666666666666, \"#ed7953\"], [0.7777777777777778, \"#fb9f3a\"], [0.8888888888888888, \"#fdca26\"], [1.0, \"#f0f921\"]], \"type\": \"heatmap\"}], \"heatmapgl\": [{\"colorbar\": {\"outlinewidth\": 0, \"ticks\": \"\"}, \"colorscale\": [[0.0, \"#0d0887\"], [0.1111111111111111, \"#46039f\"], [0.2222222222222222, \"#7201a8\"], [0.3333333333333333, \"#9c179e\"], [0.4444444444444444, \"#bd3786\"], [0.5555555555555556, \"#d8576b\"], [0.6666666666666666, \"#ed7953\"], [0.7777777777777778, \"#fb9f3a\"], [0.8888888888888888, \"#fdca26\"], [1.0, \"#f0f921\"]], \"type\": \"heatmapgl\"}], \"histogram\": [{\"marker\": {\"colorbar\": {\"outlinewidth\": 0, \"ticks\": \"\"}}, \"type\": \"histogram\"}], \"histogram2d\": [{\"colorbar\": {\"outlinewidth\": 0, \"ticks\": \"\"}, \"colorscale\": [[0.0, \"#0d0887\"], [0.1111111111111111, \"#46039f\"], [0.2222222222222222, \"#7201a8\"], [0.3333333333333333, \"#9c179e\"], [0.4444444444444444, \"#bd3786\"], [0.5555555555555556, \"#d8576b\"], [0.6666666666666666, \"#ed7953\"], [0.7777777777777778, \"#fb9f3a\"], [0.8888888888888888, \"#fdca26\"], [1.0, \"#f0f921\"]], \"type\": \"histogram2d\"}], \"histogram2dcontour\": [{\"colorbar\": {\"outlinewidth\": 0, \"ticks\": \"\"}, \"colorscale\": [[0.0, \"#0d0887\"], [0.1111111111111111, \"#46039f\"], [0.2222222222222222, \"#7201a8\"], [0.3333333333333333, \"#9c179e\"], [0.4444444444444444, \"#bd3786\"], [0.5555555555555556, \"#d8576b\"], [0.6666666666666666, \"#ed7953\"], [0.7777777777777778, \"#fb9f3a\"], [0.8888888888888888, \"#fdca26\"], [1.0, \"#f0f921\"]], \"type\": \"histogram2dcontour\"}], \"mesh3d\": [{\"colorbar\": {\"outlinewidth\": 0, \"ticks\": \"\"}, \"type\": \"mesh3d\"}], \"parcoords\": [{\"line\": {\"colorbar\": {\"outlinewidth\": 0, \"ticks\": \"\"}}, \"type\": \"parcoords\"}], \"pie\": [{\"automargin\": true, \"type\": \"pie\"}], \"scatter\": [{\"marker\": {\"colorbar\": {\"outlinewidth\": 0, \"ticks\": \"\"}}, \"type\": \"scatter\"}], \"scatter3d\": [{\"line\": {\"colorbar\": {\"outlinewidth\": 0, \"ticks\": \"\"}}, \"marker\": {\"colorbar\": {\"outlinewidth\": 0, \"ticks\": \"\"}}, \"type\": \"scatter3d\"}], \"scattercarpet\": [{\"marker\": {\"colorbar\": {\"outlinewidth\": 0, \"ticks\": \"\"}}, \"type\": \"scattercarpet\"}], \"scattergeo\": [{\"marker\": {\"colorbar\": {\"outlinewidth\": 0, \"ticks\": \"\"}}, \"type\": \"scattergeo\"}], \"scattergl\": [{\"marker\": {\"colorbar\": {\"outlinewidth\": 0, \"ticks\": \"\"}}, \"type\": \"scattergl\"}], \"scattermapbox\": [{\"marker\": {\"colorbar\": {\"outlinewidth\": 0, \"ticks\": \"\"}}, \"type\": \"scattermapbox\"}], \"scatterpolar\": [{\"marker\": {\"colorbar\": {\"outlinewidth\": 0, \"ticks\": \"\"}}, \"type\": \"scatterpolar\"}], \"scatterpolargl\": [{\"marker\": {\"colorbar\": {\"outlinewidth\": 0, \"ticks\": \"\"}}, \"type\": \"scatterpolargl\"}], \"scatterternary\": [{\"marker\": {\"colorbar\": {\"outlinewidth\": 0, \"ticks\": \"\"}}, \"type\": \"scatterternary\"}], \"surface\": [{\"colorbar\": {\"outlinewidth\": 0, \"ticks\": \"\"}, \"colorscale\": [[0.0, \"#0d0887\"], [0.1111111111111111, \"#46039f\"], [0.2222222222222222, \"#7201a8\"], [0.3333333333333333, \"#9c179e\"], [0.4444444444444444, \"#bd3786\"], [0.5555555555555556, \"#d8576b\"], [0.6666666666666666, \"#ed7953\"], [0.7777777777777778, \"#fb9f3a\"], [0.8888888888888888, \"#fdca26\"], [1.0, \"#f0f921\"]], \"type\": \"surface\"}], \"table\": [{\"cells\": {\"fill\": {\"color\": \"#EBF0F8\"}, \"line\": {\"color\": \"white\"}}, \"header\": {\"fill\": {\"color\": \"#C8D4E3\"}, \"line\": {\"color\": \"white\"}}, \"type\": \"table\"}]}, \"layout\": {\"annotationdefaults\": {\"arrowcolor\": \"#2a3f5f\", \"arrowhead\": 0, \"arrowwidth\": 1}, \"autotypenumbers\": \"strict\", \"coloraxis\": {\"colorbar\": {\"outlinewidth\": 0, \"ticks\": \"\"}}, \"colorscale\": {\"diverging\": [[0, \"#8e0152\"], [0.1, \"#c51b7d\"], [0.2, \"#de77ae\"], [0.3, \"#f1b6da\"], [0.4, \"#fde0ef\"], [0.5, \"#f7f7f7\"], [0.6, \"#e6f5d0\"], [0.7, \"#b8e186\"], [0.8, \"#7fbc41\"], [0.9, \"#4d9221\"], [1, \"#276419\"]], \"sequential\": [[0.0, \"#0d0887\"], [0.1111111111111111, \"#46039f\"], [0.2222222222222222, \"#7201a8\"], [0.3333333333333333, \"#9c179e\"], [0.4444444444444444, \"#bd3786\"], [0.5555555555555556, \"#d8576b\"], [0.6666666666666666, \"#ed7953\"], [0.7777777777777778, \"#fb9f3a\"], [0.8888888888888888, \"#fdca26\"], [1.0, \"#f0f921\"]], \"sequentialminus\": [[0.0, \"#0d0887\"], [0.1111111111111111, \"#46039f\"], [0.2222222222222222, \"#7201a8\"], [0.3333333333333333, \"#9c179e\"], [0.4444444444444444, \"#bd3786\"], [0.5555555555555556, \"#d8576b\"], [0.6666666666666666, \"#ed7953\"], [0.7777777777777778, \"#fb9f3a\"], [0.8888888888888888, \"#fdca26\"], [1.0, \"#f0f921\"]]}, \"colorway\": [\"#636efa\", \"#EF553B\", \"#00cc96\", \"#ab63fa\", \"#FFA15A\", \"#19d3f3\", \"#FF6692\", \"#B6E880\", \"#FF97FF\", \"#FECB52\"], \"font\": {\"color\": \"#2a3f5f\"}, \"geo\": {\"bgcolor\": \"white\", \"lakecolor\": \"white\", \"landcolor\": \"#E5ECF6\", \"showlakes\": true, \"showland\": true, \"subunitcolor\": \"white\"}, \"hoverlabel\": {\"align\": \"left\"}, \"hovermode\": \"closest\", \"mapbox\": {\"style\": \"light\"}, \"paper_bgcolor\": \"white\", \"plot_bgcolor\": \"#E5ECF6\", \"polar\": {\"angularaxis\": {\"gridcolor\": \"white\", \"linecolor\": \"white\", \"ticks\": \"\"}, \"bgcolor\": \"#E5ECF6\", \"radialaxis\": {\"gridcolor\": \"white\", \"linecolor\": \"white\", \"ticks\": \"\"}}, \"scene\": {\"xaxis\": {\"backgroundcolor\": \"#E5ECF6\", \"gridcolor\": \"white\", \"gridwidth\": 2, \"linecolor\": \"white\", \"showbackground\": true, \"ticks\": \"\", \"zerolinecolor\": \"white\"}, \"yaxis\": {\"backgroundcolor\": \"#E5ECF6\", \"gridcolor\": \"white\", \"gridwidth\": 2, \"linecolor\": \"white\", \"showbackground\": true, \"ticks\": \"\", \"zerolinecolor\": \"white\"}, \"zaxis\": {\"backgroundcolor\": \"#E5ECF6\", \"gridcolor\": \"white\", \"gridwidth\": 2, \"linecolor\": \"white\", \"showbackground\": true, \"ticks\": \"\", \"zerolinecolor\": \"white\"}}, \"shapedefaults\": {\"line\": {\"color\": \"#2a3f5f\"}}, \"ternary\": {\"aaxis\": {\"gridcolor\": \"white\", \"linecolor\": \"white\", \"ticks\": \"\"}, \"baxis\": {\"gridcolor\": \"white\", \"linecolor\": \"white\", \"ticks\": \"\"}, \"bgcolor\": \"#E5ECF6\", \"caxis\": {\"gridcolor\": \"white\", \"linecolor\": \"white\", \"ticks\": \"\"}}, \"title\": {\"x\": 0.05}, \"xaxis\": {\"automargin\": true, \"gridcolor\": \"white\", \"linecolor\": \"white\", \"ticks\": \"\", \"title\": {\"standoff\": 15}, \"zerolinecolor\": \"white\", \"zerolinewidth\": 2}, \"yaxis\": {\"automargin\": true, \"gridcolor\": \"white\", \"linecolor\": \"white\", \"ticks\": \"\", \"title\": {\"standoff\": 15}, \"zerolinecolor\": \"white\", \"zerolinewidth\": 2}}}, \"title\": {\"text\": \"Correlation of Twitter Metrics\"}, \"width\": 900},                        {\"responsive\": true}                    ).then(function(){\n",
       "                            \n",
       "var gd = document.getElementById('36eb251e-3eea-4685-86d7-5ecc7895693b');\n",
       "var x = new MutationObserver(function (mutations, observer) {{\n",
       "        var display = window.getComputedStyle(gd).display;\n",
       "        if (!display || display === 'none') {{\n",
       "            console.log([gd, 'removed!']);\n",
       "            Plotly.purge(gd);\n",
       "            observer.disconnect();\n",
       "        }}\n",
       "}});\n",
       "\n",
       "// Listen for the removal of the full notebook cells\n",
       "var notebookContainer = gd.closest('#notebook-container');\n",
       "if (notebookContainer) {{\n",
       "    x.observe(notebookContainer, {childList: true});\n",
       "}}\n",
       "\n",
       "// Listen for the clearing of the current output cell\n",
       "var outputEl = gd.closest('.output');\n",
       "if (outputEl) {{\n",
       "    x.observe(outputEl, {childList: true});\n",
       "}}\n",
       "\n",
       "                        })                };                });            </script>        </div>"
      ]
     },
     "metadata": {},
     "output_type": "display_data"
    }
   ],
   "source": [
    "import plotly.graph_objects as go\n",
    "\n",
    "fig = go.Figure(data=go.Splom(\n",
    "                dimensions=[dict(label='frequency_met',\n",
    "                                 values=df_2020['frequency_met']),\n",
    "                            dict(label='TextBlob_met',\n",
    "                                 values=df_2020['TextBlob_met']),\n",
    "                            dict(label='VADER_met',\n",
    "                                 values=df_2020['VADER_met']),\n",
    "                            dict(label='COVID_met',\n",
    "                                 values=df_2020['COVID_met'])],\n",
    "                text=df_2020.index.values,\n",
    "                marker=dict(#color=df_2020.index.values,\n",
    "                            #showscale=False, # colors encode categorical variables\n",
    "                            line_color='white', line_width=0.5)\n",
    "                ))\n",
    "\n",
    "\n",
    "fig.update_layout(\n",
    "    title='Correlation of Twitter Metrics',\n",
    "    dragmode='select',\n",
    "    width=900,\n",
    "    height=900,\n",
    "    hovermode='closest',\n",
    ")\n",
    "\n",
    "fig.show()"
   ]
  },
  {
   "cell_type": "raw",
   "metadata": {},
   "source": []
  },
  {
   "cell_type": "markdown",
   "metadata": {},
   "source": [
    "## 6 Conclusion"
   ]
  },
  {
   "cell_type": "markdown",
   "metadata": {},
   "source": [
    "We obtained the following answers to the questions we stated at the beginning.\n",
    "\n",
    "1. Is there any effect of the pandemic on the frequency of Tweets with mentions of the companies' official Twitter accounts?\n",
    "First of all, there are some companies (Amazon, Whole Foods, Tesco, FedEx, TUI UK, Hermes, Lowes, DirectLine) where we can see a significant increase of the frequencies of Tweets in April-June 2020 in comparison to the same periods in 2018 and 2019. For other companies (American Air, Lloyds Bank, British Airways) there is a visible decrease in Tweets frequencies per day for the same period in comparison to the previous years.\n",
    "\n",
    "Further, analysis of the word clouds for these companies showed us that indeed the lexicon changed towards the one used during the pandemic. In particular, for TUI UK we saw that in 2018 and 209 the most popular words were 'holidays' and 'flight', whereas now it is 'refund' and 'cancelled'. Similar picture we see for insurance companies which also provide travel insurance. For retal companies, like Whole Foods or Tesco, the sentiment analysis showed a significant increase in popularity of the words 'queue' and 'line'. The most popular word for Whole Foods in Tweets from Arpil-June 2020 was the word 'mask'. \n",
    "2. What are the differences in tweets regularity/sentiment between industries and/or companies?\n",
    "The companies with increase in Tweets frequencies are mostly from retail, delivery, travel and insurance. If we take a look at the word clouds for \n",
    "Some other companies \n",
    "For companies like \n",
    "3. For those companies for which the amount of tweets increased in 2020, was it due to more customer complains during the pandemic?\n",
    "\n",
    "4. Can we identify which industries were more affected during the pandemic according to the data we obtained?\n",
    "According to tha data we analysed, there is a definite effect of the pandemic on areas like retail, delivery, travel, even financial services. But it is different for different companies. And if for retail we see a definite increase in both frequency and sentiment or deliery we \n",
    "\n",
    "\n",
    "\n"
   ]
  }
 ],
 "metadata": {
  "kernelspec": {
   "display_name": "Python 3",
   "language": "python",
   "name": "python3"
  },
  "language_info": {
   "codemirror_mode": {
    "name": "ipython",
    "version": 3
   },
   "file_extension": ".py",
   "mimetype": "text/x-python",
   "name": "python",
   "nbconvert_exporter": "python",
   "pygments_lexer": "ipython3",
   "version": "3.8.5"
  }
 },
 "nbformat": 4,
 "nbformat_minor": 4
}
